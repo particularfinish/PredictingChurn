{
 "cells": [
  {
   "cell_type": "code",
   "execution_count": 1,
   "id": "3ff3050e",
   "metadata": {},
   "outputs": [],
   "source": [
    "import pandas as pd\n",
    "from datetime import date, timedelta\n",
    "import datetime\n",
    "import numpy as np\n",
    "from mixed_naive_bayes import MixedNB\n",
    "from sklearn.model_selection import train_test_split\n",
    "from sklearn.metrics import accuracy_score\n",
    "from sklearn.inspection import permutation_importance"
   ]
  },
  {
   "cell_type": "code",
   "execution_count": 2,
   "id": "f4274a6e",
   "metadata": {},
   "outputs": [
    {
     "data": {
      "text/html": [
       "<div>\n",
       "<style scoped>\n",
       "    .dataframe tbody tr th:only-of-type {\n",
       "        vertical-align: middle;\n",
       "    }\n",
       "\n",
       "    .dataframe tbody tr th {\n",
       "        vertical-align: top;\n",
       "    }\n",
       "\n",
       "    .dataframe thead th {\n",
       "        text-align: right;\n",
       "    }\n",
       "</style>\n",
       "<table border=\"1\" class=\"dataframe\">\n",
       "  <thead>\n",
       "    <tr style=\"text-align: right;\">\n",
       "      <th></th>\n",
       "      <th>order_id</th>\n",
       "      <th>customer_id</th>\n",
       "      <th>order_date</th>\n",
       "      <th>partner_id</th>\n",
       "      <th>ord_prct_source_code</th>\n",
       "      <th>ord_status_code</th>\n",
       "      <th>ord_channel_code</th>\n",
       "      <th>ord_channel_type_code</th>\n",
       "      <th>pymt_order</th>\n",
       "      <th>refund_order</th>\n",
       "      <th>couponUsed</th>\n",
       "      <th>first_purchase</th>\n",
       "      <th>number_of_purchases</th>\n",
       "      <th>isWeekday</th>\n",
       "      <th>prct_group_name</th>\n",
       "      <th>ord_prct_quantity</th>\n",
       "      <th>prct_type_code_processed</th>\n",
       "    </tr>\n",
       "  </thead>\n",
       "  <tbody>\n",
       "    <tr>\n",
       "      <th>0</th>\n",
       "      <td>73542482</td>\n",
       "      <td>75151090</td>\n",
       "      <td>2019-11-12</td>\n",
       "      <td>75065.0</td>\n",
       "      <td>order</td>\n",
       "      <td>DELIVERED</td>\n",
       "      <td>PROVIDER</td>\n",
       "      <td>OFFLINE</td>\n",
       "      <td>0.0</td>\n",
       "      <td>0.0</td>\n",
       "      <td>1</td>\n",
       "      <td>True</td>\n",
       "      <td>1</td>\n",
       "      <td>1</td>\n",
       "      <td>['Bolsa lavanderia']</td>\n",
       "      <td>1</td>\n",
       "      <td>['LAUNDRY']</td>\n",
       "    </tr>\n",
       "    <tr>\n",
       "      <th>1</th>\n",
       "      <td>73542488</td>\n",
       "      <td>74700288</td>\n",
       "      <td>2019-08-27</td>\n",
       "      <td>74402.0</td>\n",
       "      <td>order</td>\n",
       "      <td>DELIVERED</td>\n",
       "      <td>IOS</td>\n",
       "      <td>ONLINE</td>\n",
       "      <td>9.0</td>\n",
       "      <td>0.0</td>\n",
       "      <td>1</td>\n",
       "      <td>False</td>\n",
       "      <td>2</td>\n",
       "      <td>1</td>\n",
       "      <td>['Media bolsa lavandería']</td>\n",
       "      <td>1</td>\n",
       "      <td>['LAUNDRY']</td>\n",
       "    </tr>\n",
       "    <tr>\n",
       "      <th>2</th>\n",
       "      <td>73542515</td>\n",
       "      <td>75550863</td>\n",
       "      <td>2019-07-25</td>\n",
       "      <td>74612.0</td>\n",
       "      <td>order</td>\n",
       "      <td>WAITING_DELIVERY</td>\n",
       "      <td>ANDROID</td>\n",
       "      <td>ONLINE</td>\n",
       "      <td>0.0</td>\n",
       "      <td>0.0</td>\n",
       "      <td>1</td>\n",
       "      <td>True</td>\n",
       "      <td>1</td>\n",
       "      <td>1</td>\n",
       "      <td>['Media bolsa lavandería']</td>\n",
       "      <td>1</td>\n",
       "      <td>['LAUNDRY']</td>\n",
       "    </tr>\n",
       "    <tr>\n",
       "      <th>3</th>\n",
       "      <td>73542618</td>\n",
       "      <td>75260852</td>\n",
       "      <td>2020-01-08</td>\n",
       "      <td>74678.0</td>\n",
       "      <td>order</td>\n",
       "      <td>DELIVERED</td>\n",
       "      <td>ANDROID</td>\n",
       "      <td>ONLINE</td>\n",
       "      <td>49.5</td>\n",
       "      <td>0.0</td>\n",
       "      <td>1</td>\n",
       "      <td>False</td>\n",
       "      <td>12</td>\n",
       "      <td>1</td>\n",
       "      <td>['Media bolsa lavandería' 'Bolsa lavanderia']</td>\n",
       "      <td>2</td>\n",
       "      <td>['LAUNDRY']</td>\n",
       "    </tr>\n",
       "    <tr>\n",
       "      <th>4</th>\n",
       "      <td>73542619</td>\n",
       "      <td>74711088</td>\n",
       "      <td>2019-12-23</td>\n",
       "      <td>74084.0</td>\n",
       "      <td>order</td>\n",
       "      <td>DELIVERED</td>\n",
       "      <td>ANDROID</td>\n",
       "      <td>ONLINE</td>\n",
       "      <td>34.0</td>\n",
       "      <td>0.0</td>\n",
       "      <td>1</td>\n",
       "      <td>False</td>\n",
       "      <td>2</td>\n",
       "      <td>1</td>\n",
       "      <td>['Bolsa lavanderia']</td>\n",
       "      <td>1</td>\n",
       "      <td>['LAUNDRY']</td>\n",
       "    </tr>\n",
       "  </tbody>\n",
       "</table>\n",
       "</div>"
      ],
      "text/plain": [
       "   order_id  customer_id  order_date  partner_id ord_prct_source_code  \\\n",
       "0  73542482     75151090  2019-11-12     75065.0                order   \n",
       "1  73542488     74700288  2019-08-27     74402.0                order   \n",
       "2  73542515     75550863  2019-07-25     74612.0                order   \n",
       "3  73542618     75260852  2020-01-08     74678.0                order   \n",
       "4  73542619     74711088  2019-12-23     74084.0                order   \n",
       "\n",
       "    ord_status_code ord_channel_code ord_channel_type_code  pymt_order  \\\n",
       "0         DELIVERED         PROVIDER               OFFLINE         0.0   \n",
       "1         DELIVERED              IOS                ONLINE         9.0   \n",
       "2  WAITING_DELIVERY          ANDROID                ONLINE         0.0   \n",
       "3         DELIVERED          ANDROID                ONLINE        49.5   \n",
       "4         DELIVERED          ANDROID                ONLINE        34.0   \n",
       "\n",
       "   refund_order  couponUsed  first_purchase  number_of_purchases  isWeekday  \\\n",
       "0           0.0           1            True                    1          1   \n",
       "1           0.0           1           False                    2          1   \n",
       "2           0.0           1            True                    1          1   \n",
       "3           0.0           1           False                   12          1   \n",
       "4           0.0           1           False                    2          1   \n",
       "\n",
       "                                 prct_group_name  ord_prct_quantity  \\\n",
       "0                           ['Bolsa lavanderia']                  1   \n",
       "1                     ['Media bolsa lavandería']                  1   \n",
       "2                     ['Media bolsa lavandería']                  1   \n",
       "3  ['Media bolsa lavandería' 'Bolsa lavanderia']                  2   \n",
       "4                           ['Bolsa lavanderia']                  1   \n",
       "\n",
       "  prct_type_code_processed  \n",
       "0              ['LAUNDRY']  \n",
       "1              ['LAUNDRY']  \n",
       "2              ['LAUNDRY']  \n",
       "3              ['LAUNDRY']  \n",
       "4              ['LAUNDRY']  "
      ]
     },
     "execution_count": 2,
     "metadata": {},
     "output_type": "execute_result"
    }
   ],
   "source": [
    "# load data\n",
    "df = pd.read_csv('data/agg_df.csv')\n",
    "df.head(5)"
   ]
  },
  {
   "cell_type": "markdown",
   "id": "ecc1d61f",
   "metadata": {},
   "source": [
    "The goal:\n",
    "Previous analysis has identified that for a customer who completes a first transaction but does not initiate a second transaction within 60 days, there is a high probability of churn (1). We assume a customer who has not returned to make a second purchase within 60 days to be churn, and a customer who returns to be not churn (0)."
   ]
  },
  {
   "cell_type": "code",
   "execution_count": 3,
   "id": "7f57d142",
   "metadata": {},
   "outputs": [
    {
     "data": {
      "text/html": [
       "<div>\n",
       "<style scoped>\n",
       "    .dataframe tbody tr th:only-of-type {\n",
       "        vertical-align: middle;\n",
       "    }\n",
       "\n",
       "    .dataframe tbody tr th {\n",
       "        vertical-align: top;\n",
       "    }\n",
       "\n",
       "    .dataframe thead th {\n",
       "        text-align: right;\n",
       "    }\n",
       "</style>\n",
       "<table border=\"1\" class=\"dataframe\">\n",
       "  <thead>\n",
       "    <tr style=\"text-align: right;\">\n",
       "      <th></th>\n",
       "      <th>order_id</th>\n",
       "      <th>customer_id</th>\n",
       "      <th>order_date</th>\n",
       "      <th>partner_id</th>\n",
       "      <th>ord_prct_source_code</th>\n",
       "      <th>ord_status_code</th>\n",
       "      <th>ord_channel_code</th>\n",
       "      <th>ord_channel_type_code</th>\n",
       "      <th>pymt_order</th>\n",
       "      <th>refund_order</th>\n",
       "      <th>couponUsed</th>\n",
       "      <th>first_purchase</th>\n",
       "      <th>number_of_purchases</th>\n",
       "      <th>isWeekday</th>\n",
       "      <th>prct_group_name</th>\n",
       "      <th>ord_prct_quantity</th>\n",
       "      <th>prct_type_code_processed</th>\n",
       "    </tr>\n",
       "  </thead>\n",
       "  <tbody>\n",
       "    <tr>\n",
       "      <th>24049</th>\n",
       "      <td>73988814</td>\n",
       "      <td>74698133</td>\n",
       "      <td>2019-09-25</td>\n",
       "      <td>74457.0</td>\n",
       "      <td>order</td>\n",
       "      <td>WAITING_DELIVERY</td>\n",
       "      <td>PROVIDER</td>\n",
       "      <td>OFFLINE</td>\n",
       "      <td>75.0</td>\n",
       "      <td>0.0</td>\n",
       "      <td>0</td>\n",
       "      <td>False</td>\n",
       "      <td>2</td>\n",
       "      <td>1</td>\n",
       "      <td>['Americana']</td>\n",
       "      <td>3</td>\n",
       "      <td>['DRYCLEANING']</td>\n",
       "    </tr>\n",
       "    <tr>\n",
       "      <th>24235</th>\n",
       "      <td>73992133</td>\n",
       "      <td>74698133</td>\n",
       "      <td>2019-10-28</td>\n",
       "      <td>74457.0</td>\n",
       "      <td>order</td>\n",
       "      <td>DELIVERED</td>\n",
       "      <td>PROVIDER</td>\n",
       "      <td>OFFLINE</td>\n",
       "      <td>100.0</td>\n",
       "      <td>0.0</td>\n",
       "      <td>0</td>\n",
       "      <td>False</td>\n",
       "      <td>3</td>\n",
       "      <td>1</td>\n",
       "      <td>['Americana']</td>\n",
       "      <td>4</td>\n",
       "      <td>['DRYCLEANING']</td>\n",
       "    </tr>\n",
       "    <tr>\n",
       "      <th>24688</th>\n",
       "      <td>74000506</td>\n",
       "      <td>74698133</td>\n",
       "      <td>2019-07-16</td>\n",
       "      <td>74457.0</td>\n",
       "      <td>order</td>\n",
       "      <td>DELIVERED</td>\n",
       "      <td>PROVIDER</td>\n",
       "      <td>OFFLINE</td>\n",
       "      <td>75.0</td>\n",
       "      <td>0.0</td>\n",
       "      <td>0</td>\n",
       "      <td>True</td>\n",
       "      <td>1</td>\n",
       "      <td>1</td>\n",
       "      <td>['Americana']</td>\n",
       "      <td>3</td>\n",
       "      <td>['DRYCLEANING']</td>\n",
       "    </tr>\n",
       "    <tr>\n",
       "      <th>25424</th>\n",
       "      <td>74013759</td>\n",
       "      <td>74698133</td>\n",
       "      <td>2019-11-07</td>\n",
       "      <td>74457.0</td>\n",
       "      <td>order</td>\n",
       "      <td>DELIVERED</td>\n",
       "      <td>PROVIDER</td>\n",
       "      <td>OFFLINE</td>\n",
       "      <td>120.0</td>\n",
       "      <td>0.0</td>\n",
       "      <td>0</td>\n",
       "      <td>False</td>\n",
       "      <td>4</td>\n",
       "      <td>1</td>\n",
       "      <td>['Otro']</td>\n",
       "      <td>4</td>\n",
       "      <td>['LAUNDRY']</td>\n",
       "    </tr>\n",
       "  </tbody>\n",
       "</table>\n",
       "</div>"
      ],
      "text/plain": [
       "       order_id  customer_id  order_date  partner_id ord_prct_source_code  \\\n",
       "24049  73988814     74698133  2019-09-25     74457.0                order   \n",
       "24235  73992133     74698133  2019-10-28     74457.0                order   \n",
       "24688  74000506     74698133  2019-07-16     74457.0                order   \n",
       "25424  74013759     74698133  2019-11-07     74457.0                order   \n",
       "\n",
       "        ord_status_code ord_channel_code ord_channel_type_code  pymt_order  \\\n",
       "24049  WAITING_DELIVERY         PROVIDER               OFFLINE        75.0   \n",
       "24235         DELIVERED         PROVIDER               OFFLINE       100.0   \n",
       "24688         DELIVERED         PROVIDER               OFFLINE        75.0   \n",
       "25424         DELIVERED         PROVIDER               OFFLINE       120.0   \n",
       "\n",
       "       refund_order  couponUsed  first_purchase  number_of_purchases  \\\n",
       "24049           0.0           0           False                    2   \n",
       "24235           0.0           0           False                    3   \n",
       "24688           0.0           0            True                    1   \n",
       "25424           0.0           0           False                    4   \n",
       "\n",
       "       isWeekday prct_group_name  ord_prct_quantity prct_type_code_processed  \n",
       "24049          1   ['Americana']                  3          ['DRYCLEANING']  \n",
       "24235          1   ['Americana']                  4          ['DRYCLEANING']  \n",
       "24688          1   ['Americana']                  3          ['DRYCLEANING']  \n",
       "25424          1        ['Otro']                  4              ['LAUNDRY']  "
      ]
     },
     "execution_count": 3,
     "metadata": {},
     "output_type": "execute_result"
    }
   ],
   "source": [
    "df[df['customer_id'] == 74698133]"
   ]
  },
  {
   "cell_type": "code",
   "execution_count": 4,
   "id": "3b6ed93f",
   "metadata": {},
   "outputs": [
    {
     "data": {
      "text/plain": [
       "(34034, 109005)"
      ]
     },
     "execution_count": 4,
     "metadata": {},
     "output_type": "execute_result"
    }
   ],
   "source": [
    "# how many unique customers?\n",
    "len(df.customer_id.unique()), len(df)"
   ]
  },
  {
   "cell_type": "markdown",
   "id": "dc659879",
   "metadata": {},
   "source": [
    "Clearly some of these orders are not churn. What is the last date of order modification?"
   ]
  },
  {
   "cell_type": "markdown",
   "id": "5d4fc191",
   "metadata": {},
   "source": [
    "Change order_date to date_time.\n",
    "Make a list of order dates for each customer. \n",
    "If customer had second order within 60 days, they are not churn. \n",
    "Otherwise they are churn. \n",
    "Remove \"new\" customers who have not had a chance to churn or not, yet. Set those aside for the deployment. \n"
   ]
  },
  {
   "cell_type": "code",
   "execution_count": 5,
   "id": "e9208191",
   "metadata": {},
   "outputs": [],
   "source": [
    "# change order_date to datetime\n",
    "df['order_date'] = pd.to_datetime(df['order_date'], infer_datetime_format=True)"
   ]
  },
  {
   "cell_type": "code",
   "execution_count": 6,
   "id": "ba26fee6",
   "metadata": {},
   "outputs": [],
   "source": [
    "churn_df = df.groupby('customer_id')['order_date'].apply(list)\n"
   ]
  },
  {
   "cell_type": "code",
   "execution_count": 7,
   "id": "5556ff5f",
   "metadata": {},
   "outputs": [],
   "source": [
    "churn_df = pd.DataFrame(churn_df)"
   ]
  },
  {
   "cell_type": "code",
   "execution_count": 8,
   "id": "c545079f",
   "metadata": {},
   "outputs": [
    {
     "data": {
      "text/html": [
       "<div>\n",
       "<style scoped>\n",
       "    .dataframe tbody tr th:only-of-type {\n",
       "        vertical-align: middle;\n",
       "    }\n",
       "\n",
       "    .dataframe tbody tr th {\n",
       "        vertical-align: top;\n",
       "    }\n",
       "\n",
       "    .dataframe thead th {\n",
       "        text-align: right;\n",
       "    }\n",
       "</style>\n",
       "<table border=\"1\" class=\"dataframe\">\n",
       "  <thead>\n",
       "    <tr style=\"text-align: right;\">\n",
       "      <th></th>\n",
       "      <th>order_date</th>\n",
       "    </tr>\n",
       "    <tr>\n",
       "      <th>customer_id</th>\n",
       "      <th></th>\n",
       "    </tr>\n",
       "  </thead>\n",
       "  <tbody>\n",
       "    <tr>\n",
       "      <th>74698133</th>\n",
       "      <td>[2019-09-25 00:00:00, 2019-10-28 00:00:00, 201...</td>\n",
       "    </tr>\n",
       "    <tr>\n",
       "      <th>74698153</th>\n",
       "      <td>[2020-03-18 00:00:00]</td>\n",
       "    </tr>\n",
       "    <tr>\n",
       "      <th>74698168</th>\n",
       "      <td>[2019-06-27 00:00:00]</td>\n",
       "    </tr>\n",
       "    <tr>\n",
       "      <th>74698215</th>\n",
       "      <td>[2019-07-30 00:00:00]</td>\n",
       "    </tr>\n",
       "    <tr>\n",
       "      <th>74698262</th>\n",
       "      <td>[2019-09-30 00:00:00, 2020-09-02 00:00:00]</td>\n",
       "    </tr>\n",
       "  </tbody>\n",
       "</table>\n",
       "</div>"
      ],
      "text/plain": [
       "                                                    order_date\n",
       "customer_id                                                   \n",
       "74698133     [2019-09-25 00:00:00, 2019-10-28 00:00:00, 201...\n",
       "74698153                                 [2020-03-18 00:00:00]\n",
       "74698168                                 [2019-06-27 00:00:00]\n",
       "74698215                                 [2019-07-30 00:00:00]\n",
       "74698262            [2019-09-30 00:00:00, 2020-09-02 00:00:00]"
      ]
     },
     "execution_count": 8,
     "metadata": {},
     "output_type": "execute_result"
    }
   ],
   "source": [
    "churn_df.head()"
   ]
  },
  {
   "cell_type": "code",
   "execution_count": 9,
   "id": "8150b8f0",
   "metadata": {},
   "outputs": [
    {
     "name": "stdout",
     "output_type": "stream",
     "text": [
      "120 1006\n"
     ]
    }
   ],
   "source": [
    "# create threshold of \"indetermination\" of churn\n",
    "naThreshold_end = (datetime.datetime.utcnow() - (df.order_date.max() - timedelta(59))).days\n",
    "naThreshold_start = (datetime.datetime.utcnow() - (df.order_date.min() + timedelta(59))).days\n",
    "print(naThreshold_end, naThreshold_start)"
   ]
  },
  {
   "cell_type": "code",
   "execution_count": 10,
   "id": "00da5f7f",
   "metadata": {},
   "outputs": [],
   "source": [
    "def is_churn(list):\n",
    "    # function days a list of timestamps for a user\n",
    "    # and returns 1 if the user is an adopter, else returns 0\n",
    "    \n",
    "    days = []\n",
    "    \n",
    "    # Change the list of times to a list of ints\n",
    "    for item in list:\n",
    "        delta = (datetime.datetime.utcnow() - item).days\n",
    "        days.append(delta)\n",
    "    \n",
    "    # sort list, in case orders aren't chronologically logged\n",
    "    days.sort()\n",
    "    \n",
    "    c = int(1)\n",
    "    if len(days) == 1:\n",
    "        if days[0] <= naThreshold_end:\n",
    "            c=int(3)\n",
    "            return int(c)\n",
    "        if days[0] >= naThreshold_start:\n",
    "            c=int(3)\n",
    "            return int(c)\n",
    "        else:\n",
    "            c=int(1)\n",
    "            return int(c)\n",
    "    if len(days) > 2:\n",
    "        c=int(0)\n",
    "        return int(c)\n",
    "    \n",
    "    \n",
    "    for i in range(len(days)-1):\n",
    "    \n",
    "        if days[i] - days[i+1] >= 60:\n",
    "            c = int(1)\n",
    "            return int(c)\n",
    "        else:\n",
    "            c=int(1)\n",
    "            return int(c)\n"
   ]
  },
  {
   "cell_type": "code",
   "execution_count": 11,
   "id": "98e7f0f9",
   "metadata": {},
   "outputs": [
    {
     "name": "stdout",
     "output_type": "stream",
     "text": [
      "[Timestamp('2019-09-25 00:00:00'), Timestamp('2019-10-28 00:00:00'), Timestamp('2019-07-16 00:00:00'), Timestamp('2019-11-07 00:00:00')]\n"
     ]
    }
   ],
   "source": [
    "list = churn_df.loc[74698133, 'order_date']\n",
    "print(list)"
   ]
  },
  {
   "cell_type": "code",
   "execution_count": 12,
   "id": "64f8ebe9",
   "metadata": {},
   "outputs": [
    {
     "data": {
      "text/plain": [
       "int"
      ]
     },
     "execution_count": 12,
     "metadata": {},
     "output_type": "execute_result"
    }
   ],
   "source": [
    "type(is_churn(list))"
   ]
  },
  {
   "cell_type": "code",
   "execution_count": 13,
   "id": "f623fda6",
   "metadata": {},
   "outputs": [],
   "source": [
    "for id, list in zip(churn_df.index, churn_df.order_date):\n",
    "    x = is_churn(list)\n",
    "    churn_df.loc[id, 'is_Churn'] = int(x)"
   ]
  },
  {
   "cell_type": "code",
   "execution_count": 14,
   "id": "c691dbd5",
   "metadata": {},
   "outputs": [
    {
     "data": {
      "text/html": [
       "<div>\n",
       "<style scoped>\n",
       "    .dataframe tbody tr th:only-of-type {\n",
       "        vertical-align: middle;\n",
       "    }\n",
       "\n",
       "    .dataframe tbody tr th {\n",
       "        vertical-align: top;\n",
       "    }\n",
       "\n",
       "    .dataframe thead th {\n",
       "        text-align: right;\n",
       "    }\n",
       "</style>\n",
       "<table border=\"1\" class=\"dataframe\">\n",
       "  <thead>\n",
       "    <tr style=\"text-align: right;\">\n",
       "      <th></th>\n",
       "      <th>order_date</th>\n",
       "    </tr>\n",
       "    <tr>\n",
       "      <th>is_Churn</th>\n",
       "      <th></th>\n",
       "    </tr>\n",
       "  </thead>\n",
       "  <tbody>\n",
       "    <tr>\n",
       "      <th>0.0</th>\n",
       "      <td>9476</td>\n",
       "    </tr>\n",
       "    <tr>\n",
       "      <th>1.0</th>\n",
       "      <td>23414</td>\n",
       "    </tr>\n",
       "    <tr>\n",
       "      <th>3.0</th>\n",
       "      <td>1144</td>\n",
       "    </tr>\n",
       "  </tbody>\n",
       "</table>\n",
       "</div>"
      ],
      "text/plain": [
       "          order_date\n",
       "is_Churn            \n",
       "0.0             9476\n",
       "1.0            23414\n",
       "3.0             1144"
      ]
     },
     "execution_count": 14,
     "metadata": {},
     "output_type": "execute_result"
    }
   ],
   "source": [
    "churn_df.groupby(['is_Churn']).count()"
   ]
  },
  {
   "cell_type": "code",
   "execution_count": 15,
   "id": "779b5ac4",
   "metadata": {},
   "outputs": [
    {
     "name": "stdout",
     "output_type": "stream",
     "text": [
      "<class 'pandas.core.frame.DataFrame'>\n",
      "Int64Index: 34034 entries, 74698133 to 1155819823\n",
      "Data columns (total 2 columns):\n",
      " #   Column      Non-Null Count  Dtype  \n",
      "---  ------      --------------  -----  \n",
      " 0   order_date  34034 non-null  object \n",
      " 1   is_Churn    34034 non-null  float64\n",
      "dtypes: float64(1), object(1)\n",
      "memory usage: 1.8+ MB\n"
     ]
    }
   ],
   "source": [
    "churn_df.info()"
   ]
  },
  {
   "cell_type": "code",
   "execution_count": 16,
   "id": "f167103f",
   "metadata": {},
   "outputs": [],
   "source": [
    "# merge Churn to df\n",
    "merged = pd.merge(df, churn_df, on='customer_id', validate =\"many_to_one\")"
   ]
  },
  {
   "cell_type": "code",
   "execution_count": 17,
   "id": "47d322ab",
   "metadata": {},
   "outputs": [
    {
     "data": {
      "text/html": [
       "<div>\n",
       "<style scoped>\n",
       "    .dataframe tbody tr th:only-of-type {\n",
       "        vertical-align: middle;\n",
       "    }\n",
       "\n",
       "    .dataframe tbody tr th {\n",
       "        vertical-align: top;\n",
       "    }\n",
       "\n",
       "    .dataframe thead th {\n",
       "        text-align: right;\n",
       "    }\n",
       "</style>\n",
       "<table border=\"1\" class=\"dataframe\">\n",
       "  <thead>\n",
       "    <tr style=\"text-align: right;\">\n",
       "      <th></th>\n",
       "      <th>order_id</th>\n",
       "      <th>customer_id</th>\n",
       "      <th>order_date_x</th>\n",
       "      <th>partner_id</th>\n",
       "      <th>ord_prct_source_code</th>\n",
       "      <th>ord_status_code</th>\n",
       "      <th>ord_channel_code</th>\n",
       "      <th>ord_channel_type_code</th>\n",
       "      <th>pymt_order</th>\n",
       "      <th>refund_order</th>\n",
       "      <th>couponUsed</th>\n",
       "      <th>first_purchase</th>\n",
       "      <th>number_of_purchases</th>\n",
       "      <th>isWeekday</th>\n",
       "      <th>prct_group_name</th>\n",
       "      <th>ord_prct_quantity</th>\n",
       "      <th>prct_type_code_processed</th>\n",
       "      <th>order_date_y</th>\n",
       "      <th>is_Churn</th>\n",
       "    </tr>\n",
       "  </thead>\n",
       "  <tbody>\n",
       "    <tr>\n",
       "      <th>0</th>\n",
       "      <td>73542482</td>\n",
       "      <td>75151090</td>\n",
       "      <td>2019-11-12</td>\n",
       "      <td>75065.0</td>\n",
       "      <td>order</td>\n",
       "      <td>DELIVERED</td>\n",
       "      <td>PROVIDER</td>\n",
       "      <td>OFFLINE</td>\n",
       "      <td>0.00</td>\n",
       "      <td>0.0</td>\n",
       "      <td>1</td>\n",
       "      <td>True</td>\n",
       "      <td>1</td>\n",
       "      <td>1</td>\n",
       "      <td>['Bolsa lavanderia']</td>\n",
       "      <td>1</td>\n",
       "      <td>['LAUNDRY']</td>\n",
       "      <td>[2019-11-12 00:00:00, 2019-12-13 00:00:00, 201...</td>\n",
       "      <td>0.0</td>\n",
       "    </tr>\n",
       "    <tr>\n",
       "      <th>1</th>\n",
       "      <td>73549868</td>\n",
       "      <td>75151090</td>\n",
       "      <td>2019-12-13</td>\n",
       "      <td>75065.0</td>\n",
       "      <td>order</td>\n",
       "      <td>DELIVERED</td>\n",
       "      <td>IOS</td>\n",
       "      <td>ONLINE</td>\n",
       "      <td>41.48</td>\n",
       "      <td>0.0</td>\n",
       "      <td>1</td>\n",
       "      <td>False</td>\n",
       "      <td>5</td>\n",
       "      <td>1</td>\n",
       "      <td>['Bolsa lavanderia']</td>\n",
       "      <td>1</td>\n",
       "      <td>['LAUNDRY']</td>\n",
       "      <td>[2019-11-12 00:00:00, 2019-12-13 00:00:00, 201...</td>\n",
       "      <td>0.0</td>\n",
       "    </tr>\n",
       "    <tr>\n",
       "      <th>2</th>\n",
       "      <td>73565177</td>\n",
       "      <td>75151090</td>\n",
       "      <td>2019-12-03</td>\n",
       "      <td>75065.0</td>\n",
       "      <td>order</td>\n",
       "      <td>DELIVERED</td>\n",
       "      <td>PROVIDER</td>\n",
       "      <td>OFFLINE</td>\n",
       "      <td>68.00</td>\n",
       "      <td>0.0</td>\n",
       "      <td>0</td>\n",
       "      <td>False</td>\n",
       "      <td>4</td>\n",
       "      <td>1</td>\n",
       "      <td>['Bolsa lavanderia']</td>\n",
       "      <td>1</td>\n",
       "      <td>['LAUNDRY']</td>\n",
       "      <td>[2019-11-12 00:00:00, 2019-12-13 00:00:00, 201...</td>\n",
       "      <td>0.0</td>\n",
       "    </tr>\n",
       "    <tr>\n",
       "      <th>3</th>\n",
       "      <td>73617829</td>\n",
       "      <td>75151090</td>\n",
       "      <td>2019-11-12</td>\n",
       "      <td>75065.0</td>\n",
       "      <td>order</td>\n",
       "      <td>DELIVERED</td>\n",
       "      <td>PROVIDER</td>\n",
       "      <td>OFFLINE</td>\n",
       "      <td>8.00</td>\n",
       "      <td>0.0</td>\n",
       "      <td>0</td>\n",
       "      <td>False</td>\n",
       "      <td>2</td>\n",
       "      <td>1</td>\n",
       "      <td>['Partner']</td>\n",
       "      <td>1</td>\n",
       "      <td>['HOME']</td>\n",
       "      <td>[2019-11-12 00:00:00, 2019-12-13 00:00:00, 201...</td>\n",
       "      <td>0.0</td>\n",
       "    </tr>\n",
       "    <tr>\n",
       "      <th>4</th>\n",
       "      <td>73626880</td>\n",
       "      <td>75151090</td>\n",
       "      <td>2019-11-14</td>\n",
       "      <td>75065.0</td>\n",
       "      <td>order</td>\n",
       "      <td>DELIVERED</td>\n",
       "      <td>PROVIDER</td>\n",
       "      <td>OFFLINE</td>\n",
       "      <td>40.00</td>\n",
       "      <td>0.0</td>\n",
       "      <td>0</td>\n",
       "      <td>False</td>\n",
       "      <td>3</td>\n",
       "      <td>1</td>\n",
       "      <td>['Traje 2 piezas']</td>\n",
       "      <td>1</td>\n",
       "      <td>['DRYCLEANING']</td>\n",
       "      <td>[2019-11-12 00:00:00, 2019-12-13 00:00:00, 201...</td>\n",
       "      <td>0.0</td>\n",
       "    </tr>\n",
       "  </tbody>\n",
       "</table>\n",
       "</div>"
      ],
      "text/plain": [
       "   order_id  customer_id order_date_x  partner_id ord_prct_source_code  \\\n",
       "0  73542482     75151090   2019-11-12     75065.0                order   \n",
       "1  73549868     75151090   2019-12-13     75065.0                order   \n",
       "2  73565177     75151090   2019-12-03     75065.0                order   \n",
       "3  73617829     75151090   2019-11-12     75065.0                order   \n",
       "4  73626880     75151090   2019-11-14     75065.0                order   \n",
       "\n",
       "  ord_status_code ord_channel_code ord_channel_type_code  pymt_order  \\\n",
       "0       DELIVERED         PROVIDER               OFFLINE        0.00   \n",
       "1       DELIVERED              IOS                ONLINE       41.48   \n",
       "2       DELIVERED         PROVIDER               OFFLINE       68.00   \n",
       "3       DELIVERED         PROVIDER               OFFLINE        8.00   \n",
       "4       DELIVERED         PROVIDER               OFFLINE       40.00   \n",
       "\n",
       "   refund_order  couponUsed  first_purchase  number_of_purchases  isWeekday  \\\n",
       "0           0.0           1            True                    1          1   \n",
       "1           0.0           1           False                    5          1   \n",
       "2           0.0           0           False                    4          1   \n",
       "3           0.0           0           False                    2          1   \n",
       "4           0.0           0           False                    3          1   \n",
       "\n",
       "        prct_group_name  ord_prct_quantity prct_type_code_processed  \\\n",
       "0  ['Bolsa lavanderia']                  1              ['LAUNDRY']   \n",
       "1  ['Bolsa lavanderia']                  1              ['LAUNDRY']   \n",
       "2  ['Bolsa lavanderia']                  1              ['LAUNDRY']   \n",
       "3           ['Partner']                  1                 ['HOME']   \n",
       "4    ['Traje 2 piezas']                  1          ['DRYCLEANING']   \n",
       "\n",
       "                                        order_date_y  is_Churn  \n",
       "0  [2019-11-12 00:00:00, 2019-12-13 00:00:00, 201...       0.0  \n",
       "1  [2019-11-12 00:00:00, 2019-12-13 00:00:00, 201...       0.0  \n",
       "2  [2019-11-12 00:00:00, 2019-12-13 00:00:00, 201...       0.0  \n",
       "3  [2019-11-12 00:00:00, 2019-12-13 00:00:00, 201...       0.0  \n",
       "4  [2019-11-12 00:00:00, 2019-12-13 00:00:00, 201...       0.0  "
      ]
     },
     "execution_count": 17,
     "metadata": {},
     "output_type": "execute_result"
    }
   ],
   "source": [
    "merged.head()"
   ]
  },
  {
   "cell_type": "code",
   "execution_count": 18,
   "id": "51f6cb3d",
   "metadata": {},
   "outputs": [],
   "source": [
    "merged.drop(columns=['order_date_y'], axis=1, inplace=True)"
   ]
  },
  {
   "cell_type": "code",
   "execution_count": 19,
   "id": "cd1c4a5d",
   "metadata": {},
   "outputs": [],
   "source": [
    "merged.rename(columns={'order_date_x':'order_date'}, inplace=True)"
   ]
  },
  {
   "cell_type": "code",
   "execution_count": 20,
   "id": "1582be51",
   "metadata": {},
   "outputs": [
    {
     "name": "stdout",
     "output_type": "stream",
     "text": [
      "<class 'pandas.core.frame.DataFrame'>\n",
      "Int64Index: 109005 entries, 0 to 109004\n",
      "Data columns (total 18 columns):\n",
      " #   Column                    Non-Null Count   Dtype         \n",
      "---  ------                    --------------   -----         \n",
      " 0   order_id                  109005 non-null  int64         \n",
      " 1   customer_id               109005 non-null  int64         \n",
      " 2   order_date                109005 non-null  datetime64[ns]\n",
      " 3   partner_id                109005 non-null  float64       \n",
      " 4   ord_prct_source_code      109005 non-null  object        \n",
      " 5   ord_status_code           109005 non-null  object        \n",
      " 6   ord_channel_code          109005 non-null  object        \n",
      " 7   ord_channel_type_code     109005 non-null  object        \n",
      " 8   pymt_order                109005 non-null  float64       \n",
      " 9   refund_order              109005 non-null  float64       \n",
      " 10  couponUsed                109005 non-null  int64         \n",
      " 11  first_purchase            109005 non-null  bool          \n",
      " 12  number_of_purchases       109005 non-null  int64         \n",
      " 13  isWeekday                 109005 non-null  int64         \n",
      " 14  prct_group_name           109005 non-null  object        \n",
      " 15  ord_prct_quantity         109005 non-null  int64         \n",
      " 16  prct_type_code_processed  109005 non-null  object        \n",
      " 17  is_Churn                  109005 non-null  float64       \n",
      "dtypes: bool(1), datetime64[ns](1), float64(4), int64(6), object(6)\n",
      "memory usage: 15.1+ MB\n"
     ]
    }
   ],
   "source": [
    "merged.info()"
   ]
  },
  {
   "cell_type": "markdown",
   "id": "d5856800",
   "metadata": {},
   "source": [
    "## Create New Features"
   ]
  },
  {
   "cell_type": "code",
   "execution_count": 21,
   "id": "f0e41004",
   "metadata": {},
   "outputs": [],
   "source": [
    "# Populate a column, 'Coupon_On_First_Order', with 1 if it is first order and coupon is used.\n",
    "conditions = [merged['first_purchase'].eq(True) & merged['couponUsed'].eq(1)]\n",
    "choices = [1]\n",
    "merged['Coupon_Used_First_Purchase'] = np.select(conditions, choices, default=0)\n",
    "# converting type of columns to 'category'\n",
    "merged['Coupon_Used_First_Purchase'] = merged['Coupon_Used_First_Purchase'].astype('category')"
   ]
  },
  {
   "cell_type": "code",
   "execution_count": 22,
   "id": "78836ae7",
   "metadata": {},
   "outputs": [],
   "source": [
    "# Drop 'couponUsed' column\n",
    "merged.drop(columns=['couponUsed'], axis=1, inplace=True)"
   ]
  },
  {
   "cell_type": "code",
   "execution_count": 23,
   "id": "6f3028f4",
   "metadata": {},
   "outputs": [],
   "source": [
    "# Change the refund column to refund, or not refund\n",
    "# converting type of columns to 'category'\n",
    "\n",
    "merged['isRefund'] = [1 if x != 0 else 0 for x in merged['refund_order']]\n",
    "# converting type of columns to 'category'\n",
    "merged['isRefund'] = merged['isRefund'].astype('category')\n",
    "# Assigning numerical values and storing in another column\n",
    "merged['Refund_Cat'] = merged['isRefund'].cat.codes\n"
   ]
  },
  {
   "cell_type": "code",
   "execution_count": 24,
   "id": "31530905",
   "metadata": {},
   "outputs": [],
   "source": [
    "# drop 'refund_order' columns\n",
    "merged.drop(columns=['refund_order'], axis=1, inplace=True)"
   ]
  },
  {
   "cell_type": "code",
   "execution_count": 26,
   "id": "5ca7976a",
   "metadata": {},
   "outputs": [
    {
     "name": "stdout",
     "output_type": "stream",
     "text": [
      "<class 'pandas.core.frame.DataFrame'>\n",
      "Int64Index: 109005 entries, 0 to 109004\n",
      "Data columns (total 19 columns):\n",
      " #   Column                      Non-Null Count   Dtype         \n",
      "---  ------                      --------------   -----         \n",
      " 0   order_id                    109005 non-null  int64         \n",
      " 1   customer_id                 109005 non-null  int64         \n",
      " 2   order_date                  109005 non-null  datetime64[ns]\n",
      " 3   partner_id                  109005 non-null  float64       \n",
      " 4   ord_prct_source_code        109005 non-null  object        \n",
      " 5   ord_status_code             109005 non-null  object        \n",
      " 6   ord_channel_code            109005 non-null  object        \n",
      " 7   ord_channel_type_code       109005 non-null  object        \n",
      " 8   pymt_order                  109005 non-null  float64       \n",
      " 9   first_purchase              109005 non-null  bool          \n",
      " 10  number_of_purchases         109005 non-null  int64         \n",
      " 11  isWeekday                   109005 non-null  int64         \n",
      " 12  prct_group_name             109005 non-null  object        \n",
      " 13  ord_prct_quantity           109005 non-null  int64         \n",
      " 14  prct_type_code_processed    109005 non-null  object        \n",
      " 15  is_Churn                    109005 non-null  float64       \n",
      " 16  Coupon_Used_First_Purchase  109005 non-null  category      \n",
      " 17  isRefund                    109005 non-null  category      \n",
      " 18  Refund_Cat                  109005 non-null  int8          \n",
      "dtypes: bool(1), category(2), datetime64[ns](1), float64(3), int64(5), int8(1), object(6)\n",
      "memory usage: 13.7+ MB\n"
     ]
    }
   ],
   "source": [
    "merged.info()"
   ]
  },
  {
   "cell_type": "markdown",
   "id": "d121d4aa",
   "metadata": {},
   "source": [
    "## Change Features to Categoricals"
   ]
  },
  {
   "cell_type": "code",
   "execution_count": 27,
   "id": "8c8acbdd",
   "metadata": {},
   "outputs": [],
   "source": [
    "# ord_prct_source_code - Order vs Provider\n",
    "merged['Source_Is_Provider'] = [1 if x != 'order' else 0 for x in merged['ord_prct_source_code']]\n",
    "merged['Source_Is_Provider'] = merged['Source_Is_Provider'].astype('category')\n",
    "# Assigning numerical values and storing in another column\n",
    "merged['Source_Cat'] = merged['Source_Is_Provider'].cat.codes"
   ]
  },
  {
   "cell_type": "code",
   "execution_count": 28,
   "id": "e60ce5d2",
   "metadata": {},
   "outputs": [],
   "source": [
    "# ord_channel_type_code - Online vs Offline\n",
    "merged['Is_Online'] = [1 if x == 'ONLINE' else 0 for x in merged['ord_channel_type_code']]\n",
    "merged['Is_Online'] = merged['Is_Online'].astype('category')\n",
    "# Assigning numerical values and storing in another column\n",
    "merged['Online_Cat'] = merged['Is_Online'].cat.codes"
   ]
  },
  {
   "cell_type": "code",
   "execution_count": 30,
   "id": "f1d410e4",
   "metadata": {},
   "outputs": [],
   "source": [
    "# is first purchase\n",
    "merged['Is_First_Purchase'] = [1 if x == True else 0 for x in merged['first_purchase']]\n",
    "merged['Is_First_Purchase'] = merged['Is_First_Purchase'].astype('category')\n",
    "# Assigning numerical values and storing in another column\n",
    "merged['FirstPurchaseCat'] = merged['Is_First_Purchase'].cat.codes"
   ]
  },
  {
   "cell_type": "code",
   "execution_count": 43,
   "id": "4b86cb19",
   "metadata": {},
   "outputs": [],
   "source": [
    "merged['is_Churn'] = merged['is_Churn'].astype('category')\n",
    "# Assigning numerical values and storing in another column\n",
    "merged['is_ChurnCat'] = merged['is_Churn'].cat.codes"
   ]
  },
  {
   "cell_type": "markdown",
   "id": "c3f9a1e4",
   "metadata": {},
   "source": [
    "prct_type_code_processed and ord_status_code might be one-hot encoded"
   ]
  },
  {
   "cell_type": "code",
   "execution_count": 44,
   "id": "3e18a0cd",
   "metadata": {},
   "outputs": [
    {
     "name": "stdout",
     "output_type": "stream",
     "text": [
      "<class 'pandas.core.frame.DataFrame'>\n",
      "Int64Index: 109005 entries, 0 to 109004\n",
      "Data columns (total 26 columns):\n",
      " #   Column                      Non-Null Count   Dtype         \n",
      "---  ------                      --------------   -----         \n",
      " 0   order_id                    109005 non-null  int64         \n",
      " 1   customer_id                 109005 non-null  int64         \n",
      " 2   order_date                  109005 non-null  datetime64[ns]\n",
      " 3   partner_id                  109005 non-null  float64       \n",
      " 4   ord_prct_source_code        109005 non-null  object        \n",
      " 5   ord_status_code             109005 non-null  object        \n",
      " 6   ord_channel_code            109005 non-null  object        \n",
      " 7   ord_channel_type_code       109005 non-null  object        \n",
      " 8   pymt_order                  109005 non-null  float64       \n",
      " 9   first_purchase              109005 non-null  bool          \n",
      " 10  number_of_purchases         109005 non-null  int64         \n",
      " 11  isWeekday                   109005 non-null  int64         \n",
      " 12  prct_group_name             109005 non-null  object        \n",
      " 13  ord_prct_quantity           109005 non-null  int64         \n",
      " 14  prct_type_code_processed    109005 non-null  object        \n",
      " 15  is_Churn                    109005 non-null  category      \n",
      " 16  Coupon_Used_First_Purchase  109005 non-null  category      \n",
      " 17  isRefund                    109005 non-null  category      \n",
      " 18  Refund_Cat                  109005 non-null  int8          \n",
      " 19  Source_Is_Provider          109005 non-null  category      \n",
      " 20  Source_Cat                  109005 non-null  int8          \n",
      " 21  Is_Online                   109005 non-null  category      \n",
      " 22  Online_Cat                  109005 non-null  int8          \n",
      " 23  Is_First_Purchase           109005 non-null  category      \n",
      " 24  FirstPurchaseCat            109005 non-null  int8          \n",
      " 25  is_ChurnCat                 109005 non-null  int8          \n",
      "dtypes: bool(1), category(6), datetime64[ns](1), float64(2), int64(5), int8(5), object(6)\n",
      "memory usage: 13.7+ MB\n"
     ]
    }
   ],
   "source": [
    "merged.info()"
   ]
  },
  {
   "cell_type": "markdown",
   "id": "8cb64612",
   "metadata": {},
   "source": [
    "## Separate out columns for machine learning"
   ]
  },
  {
   "cell_type": "code",
   "execution_count": 48,
   "id": "6aacc818",
   "metadata": {},
   "outputs": [
    {
     "data": {
      "text/plain": [
       "array([0, 1, 2], dtype=int8)"
      ]
     },
     "execution_count": 48,
     "metadata": {},
     "output_type": "execute_result"
    }
   ],
   "source": [
    "ml.is_ChurnCat.unique()"
   ]
  },
  {
   "cell_type": "code",
   "execution_count": 60,
   "id": "b3ff4419",
   "metadata": {},
   "outputs": [],
   "source": [
    " ml = merged[['isWeekday', 'pymt_order',  'ord_prct_quantity', 'Coupon_Used_First_Purchase', 'isRefund', \n",
    "              'Source_Is_Provider', 'Is_Online', 'Is_First_Purchase', 'is_Churn']]"
   ]
  },
  {
   "cell_type": "markdown",
   "id": "c188f5d5",
   "metadata": {},
   "source": [
    "Set aside the rows where is_churn is equal to NA. Those rows are indeterminate due to the dates of the orders within."
   ]
  },
  {
   "cell_type": "code",
   "execution_count": 61,
   "id": "44d96986",
   "metadata": {},
   "outputs": [],
   "source": [
    "indeterminate = ml.loc[ml['is_Churn'] == 3]\n",
    "ml = ml[ml['is_Churn'].isin([0,1])]"
   ]
  },
  {
   "cell_type": "code",
   "execution_count": 62,
   "id": "66fbeaff",
   "metadata": {},
   "outputs": [
    {
     "name": "stdout",
     "output_type": "stream",
     "text": [
      "<class 'pandas.core.frame.DataFrame'>\n",
      "Int64Index: 107861 entries, 0 to 108987\n",
      "Data columns (total 9 columns):\n",
      " #   Column                      Non-Null Count   Dtype   \n",
      "---  ------                      --------------   -----   \n",
      " 0   isWeekday                   107861 non-null  int64   \n",
      " 1   pymt_order                  107861 non-null  float64 \n",
      " 2   ord_prct_quantity           107861 non-null  int64   \n",
      " 3   Coupon_Used_First_Purchase  107861 non-null  category\n",
      " 4   isRefund                    107861 non-null  category\n",
      " 5   Source_Is_Provider          107861 non-null  category\n",
      " 6   Is_Online                   107861 non-null  category\n",
      " 7   Is_First_Purchase           107861 non-null  category\n",
      " 8   is_Churn                    107861 non-null  category\n",
      "dtypes: category(6), float64(1), int64(2)\n",
      "memory usage: 3.9 MB\n"
     ]
    }
   ],
   "source": [
    "ml.info()"
   ]
  },
  {
   "cell_type": "code",
   "execution_count": 63,
   "id": "e2f2d834",
   "metadata": {},
   "outputs": [],
   "source": [
    "col = ['isWeekday', 'Coupon_Used_First_Purchase', 'isRefund', 'Source_Is_Provider',\n",
    "            'Is_Online', 'Is_First_Purchase']\n",
    "# Switch most to categoricals\n",
    "for column in col:\n",
    "    ml[column] = ml[column].astype('category')\n",
    "\n",
    "ml.ord_prct_quantity = ml.ord_prct_quantity.astype('float')\n"
   ]
  },
  {
   "cell_type": "code",
   "execution_count": 64,
   "id": "e996a46b",
   "metadata": {},
   "outputs": [
    {
     "name": "stdout",
     "output_type": "stream",
     "text": [
      "<class 'pandas.core.frame.DataFrame'>\n",
      "Int64Index: 107861 entries, 0 to 108987\n",
      "Data columns (total 9 columns):\n",
      " #   Column                      Non-Null Count   Dtype   \n",
      "---  ------                      --------------   -----   \n",
      " 0   isWeekday                   107861 non-null  category\n",
      " 1   pymt_order                  107861 non-null  float64 \n",
      " 2   ord_prct_quantity           107861 non-null  float64 \n",
      " 3   Coupon_Used_First_Purchase  107861 non-null  category\n",
      " 4   isRefund                    107861 non-null  category\n",
      " 5   Source_Is_Provider          107861 non-null  category\n",
      " 6   Is_Online                   107861 non-null  category\n",
      " 7   Is_First_Purchase           107861 non-null  category\n",
      " 8   is_Churn                    107861 non-null  category\n",
      "dtypes: category(7), float64(2)\n",
      "memory usage: 3.2 MB\n"
     ]
    }
   ],
   "source": [
    "ml.info()"
   ]
  },
  {
   "cell_type": "code",
   "execution_count": 67,
   "id": "1efdcd84",
   "metadata": {},
   "outputs": [],
   "source": [
    "# Split X and y\n",
    "\n",
    "X = ml.drop(columns=['is_Churn'])\n",
    "y = ml.is_Churn"
   ]
  },
  {
   "cell_type": "code",
   "execution_count": 68,
   "id": "742dc1ed",
   "metadata": {},
   "outputs": [
    {
     "name": "stdout",
     "output_type": "stream",
     "text": [
      "<class 'pandas.core.frame.DataFrame'>\n",
      "Int64Index: 107861 entries, 0 to 108987\n",
      "Data columns (total 8 columns):\n",
      " #   Column                      Non-Null Count   Dtype   \n",
      "---  ------                      --------------   -----   \n",
      " 0   isWeekday                   107861 non-null  category\n",
      " 1   pymt_order                  107861 non-null  float64 \n",
      " 2   ord_prct_quantity           107861 non-null  float64 \n",
      " 3   Coupon_Used_First_Purchase  107861 non-null  category\n",
      " 4   isRefund                    107861 non-null  category\n",
      " 5   Source_Is_Provider          107861 non-null  category\n",
      " 6   Is_Online                   107861 non-null  category\n",
      " 7   Is_First_Purchase           107861 non-null  category\n",
      "dtypes: category(6), float64(2)\n",
      "memory usage: 3.1 MB\n"
     ]
    }
   ],
   "source": [
    "# Check the location of the categorical columns for assigment to the Multinoulli naive Bayes algorithm. \n",
    "X.info()"
   ]
  },
  {
   "cell_type": "code",
   "execution_count": 69,
   "id": "28626f7f",
   "metadata": {},
   "outputs": [],
   "source": [
    "# implement train/test split from sklearn\n",
    "X_train, X_test, y_train, y_test = train_test_split(X, y, test_size=0.3, random_state=42)"
   ]
  },
  {
   "cell_type": "code",
   "execution_count": 70,
   "id": "7fdf32b7",
   "metadata": {},
   "outputs": [
    {
     "data": {
      "text/plain": [
       "((75502, 8), (32359, 8))"
      ]
     },
     "execution_count": 70,
     "metadata": {},
     "output_type": "execute_result"
    }
   ],
   "source": [
    "# check shape of X\n",
    "X_train.shape, X_test.shape"
   ]
  },
  {
   "cell_type": "code",
   "execution_count": 71,
   "id": "cb0be3d9",
   "metadata": {},
   "outputs": [
    {
     "data": {
      "text/plain": [
       "((75502,), (32359,))"
      ]
     },
     "execution_count": 71,
     "metadata": {},
     "output_type": "execute_result"
    }
   ],
   "source": [
    "# check shape of y\n",
    "y_train.shape, y_test.shape"
   ]
  },
  {
   "cell_type": "code",
   "execution_count": 75,
   "id": "29e73ff6",
   "metadata": {},
   "outputs": [
    {
     "data": {
      "text/plain": [
       "array([0., 0., 0., ..., 1., 1., 0.])"
      ]
     },
     "execution_count": 75,
     "metadata": {},
     "output_type": "execute_result"
    }
   ],
   "source": [
    "# instantiate model, fit and predict\n",
    "from sklearn.tree import DecisionTreeClassifier\n",
    "DTC = DecisionTreeClassifier()\n",
    "DTC.fit(X_train,y_train)\n",
    "DTC.predict(X_test)"
   ]
  },
  {
   "cell_type": "code",
   "execution_count": 76,
   "id": "101915c8",
   "metadata": {},
   "outputs": [
    {
     "data": {
      "text/plain": [
       "array([[21289,  2360],\n",
       "       [ 2717,  5993]], dtype=int64)"
      ]
     },
     "execution_count": 76,
     "metadata": {},
     "output_type": "execute_result"
    }
   ],
   "source": [
    "#Predict the test set results\n",
    "\n",
    "y_pred = DTC.predict(X_test)\n",
    "\n",
    "#Create the confusion matrix\n",
    "\n",
    "from sklearn.metrics import confusion_matrix\n",
    "\n",
    "cm = confusion_matrix(y_test, y_pred)\n",
    "\n",
    "cm "
   ]
  },
  {
   "cell_type": "code",
   "execution_count": 77,
   "id": "0008fd6c",
   "metadata": {},
   "outputs": [
    {
     "data": {
      "text/plain": [
       "0.8431039278098829"
      ]
     },
     "execution_count": 77,
     "metadata": {},
     "output_type": "execute_result"
    }
   ],
   "source": [
    "DTC.score(X_test, y_test)"
   ]
  },
  {
   "cell_type": "code",
   "execution_count": 79,
   "id": "bd8c71e7",
   "metadata": {},
   "outputs": [
    {
     "data": {
      "text/plain": [
       "array([0., 1., 0., ..., 1., 1., 0.])"
      ]
     },
     "execution_count": 79,
     "metadata": {},
     "output_type": "execute_result"
    }
   ],
   "source": [
    "from sklearn.ensemble import RandomForestClassifier\n",
    "RFC = RandomForestClassifier()\n",
    "RFC.fit(X_train, y_train)\n",
    "RFC.predict(X_test)"
   ]
  },
  {
   "cell_type": "code",
   "execution_count": 81,
   "id": "2b05fc57",
   "metadata": {},
   "outputs": [
    {
     "data": {
      "text/plain": [
       "array([[21212,  2437],\n",
       "       [ 2550,  6160]], dtype=int64)"
      ]
     },
     "execution_count": 81,
     "metadata": {},
     "output_type": "execute_result"
    }
   ],
   "source": [
    "#Predict the test set results\n",
    "\n",
    "y_pred = RFC.predict(X_test)\n",
    "cm = confusion_matrix(y_test, y_pred)\n",
    "cm"
   ]
  },
  {
   "cell_type": "code",
   "execution_count": 82,
   "id": "cc388004",
   "metadata": {},
   "outputs": [
    {
     "data": {
      "text/plain": [
       "0.8458852251305664"
      ]
     },
     "execution_count": 82,
     "metadata": {},
     "output_type": "execute_result"
    }
   ],
   "source": [
    "RFC.score(X_test, y_test)"
   ]
  },
  {
   "cell_type": "markdown",
   "id": "653609eb",
   "metadata": {},
   "source": [
    "## Try Different Features?"
   ]
  },
  {
   "cell_type": "code",
   "execution_count": 93,
   "id": "95a5208e",
   "metadata": {},
   "outputs": [],
   "source": [
    " ml = merged[['isWeekday', 'Coupon_Used_First_Purchase', 'isRefund', \n",
    "              'Source_Is_Provider', 'Is_Online', 'is_Churn']]"
   ]
  },
  {
   "cell_type": "code",
   "execution_count": 94,
   "id": "ac3fe6af",
   "metadata": {},
   "outputs": [],
   "source": [
    "indeterminate = ml.loc[ml['is_Churn'] == 3]\n",
    "ml = ml[ml['is_Churn'].isin([0,1])]"
   ]
  },
  {
   "cell_type": "code",
   "execution_count": 95,
   "id": "e57805b3",
   "metadata": {},
   "outputs": [],
   "source": [
    "# Split X and y\n",
    "\n",
    "X = ml.drop(columns=['is_Churn'])\n",
    "y = ml.is_Churn"
   ]
  },
  {
   "cell_type": "code",
   "execution_count": 96,
   "id": "68549356",
   "metadata": {},
   "outputs": [],
   "source": [
    "# implement train/test split from sklearn\n",
    "X_train, X_test, y_train, y_test = train_test_split(X, y, test_size=0.3, random_state=42)"
   ]
  },
  {
   "cell_type": "code",
   "execution_count": 97,
   "id": "31f52763",
   "metadata": {},
   "outputs": [
    {
     "data": {
      "text/plain": [
       "array([0., 0., 0., ..., 0., 0., 0.])"
      ]
     },
     "execution_count": 97,
     "metadata": {},
     "output_type": "execute_result"
    }
   ],
   "source": [
    "RFC = RandomForestClassifier()\n",
    "RFC.fit(X_train, y_train)\n",
    "RFC.predict(X_test)"
   ]
  },
  {
   "cell_type": "code",
   "execution_count": 98,
   "id": "c31cc4cb",
   "metadata": {},
   "outputs": [
    {
     "data": {
      "text/plain": [
       "array([[23348,   301],\n",
       "       [ 7973,   737]], dtype=int64)"
      ]
     },
     "execution_count": 98,
     "metadata": {},
     "output_type": "execute_result"
    }
   ],
   "source": [
    "#Predict the test set results\n",
    "\n",
    "y_pred = RFC.predict(X_test)\n",
    "cm = confusion_matrix(y_test, y_pred)\n",
    "cm"
   ]
  },
  {
   "cell_type": "code",
   "execution_count": 99,
   "id": "4d806026",
   "metadata": {},
   "outputs": [
    {
     "data": {
      "text/plain": [
       "0.7443060663184895"
      ]
     },
     "execution_count": 99,
     "metadata": {},
     "output_type": "execute_result"
    }
   ],
   "source": [
    "RFC.score(X_test, y_test)"
   ]
  },
  {
   "cell_type": "code",
   "execution_count": 100,
   "id": "d896d6a1",
   "metadata": {},
   "outputs": [],
   "source": [
    "importances = RFC.feature_importances_\n",
    "#\n",
    "# Sort the feature importance in descending order\n",
    "#\n",
    "sorted_indices = np.argsort(importances)[::-1]"
   ]
  },
  {
   "cell_type": "code",
   "execution_count": 101,
   "id": "4756f530",
   "metadata": {},
   "outputs": [
    {
     "data": {
      "image/png": "[encoded data removed]",
      "text/plain": [
       "<Figure size 432x288 with 1 Axes>"
      ]
     },
     "metadata": {
      "needs_background": "light"
     },
     "output_type": "display_data"
    }
   ],
   "source": [
    "import matplotlib.pyplot as plt\n",
    " \n",
    "plt.title('Feature Importance')\n",
    "plt.bar(range(X_train.shape[1]), importances[sorted_indices], align='center')\n",
    "plt.xticks(range(X_train.shape[1]), X_train.columns[sorted_indices], rotation=90)\n",
    "plt.tight_layout()\n",
    "plt.show()"
   ]
  },
  {
   "cell_type": "code",
   "execution_count": null,
   "id": "c82bee6f",
   "metadata": {},
   "outputs": [],
   "source": []
  }
 ],
 "metadata": {
  "kernelspec": {
   "display_name": "Python 3 (ipykernel)",
   "language": "python",
   "name": "python3"
  },
  "language_info": {
   "codemirror_mode": {
    "name": "ipython",
    "version": 3
   },
   "file_extension": ".py",
   "mimetype": "text/x-python",
   "name": "python",
   "nbconvert_exporter": "python",
   "pygments_lexer": "ipython3",
   "version": "3.8.10"
  }
 },
 "nbformat": 4,
 "nbformat_minor": 5
}
