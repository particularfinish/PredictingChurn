{
 "cells": [
  {
   "cell_type": "markdown",
   "id": "21bbc04d",
   "metadata": {},
   "source": [
    "This data has been provided by a company which provides a direct-to-consumer service. \n"
   ]
  },
  {
   "cell_type": "markdown",
   "id": "21f7bb77",
   "metadata": {},
   "source": [
    "Categorical features:\n",
    "1. Ord_type_code\n",
    "2. Service\n",
    "3. first_purchase\n",
    "4. number_of_purchases <-- define as interval (1, 2-4, >4)\n",
    "5. ord_channel_type_code\n",
    "6. ord_payment_status_code\n",
    "7. coupon_code\n"
   ]
  },
  {
   "cell_type": "code",
   "execution_count": 1,
   "id": "14ceda1d",
   "metadata": {},
   "outputs": [],
   "source": [
    "import pandas as pd\n",
    "import numpy as np\n",
    "from sklearn.preprocessing import OneHotEncoder\n",
    "import datetime as dt\n",
    "from collections import Counter\n",
    "import matplotlib.pyplot as plt"
   ]
  },
  {
   "cell_type": "code",
   "execution_count": 2,
   "id": "80834f80",
   "metadata": {},
   "outputs": [
    {
     "data": {
      "text/html": [
       "<div>\n",
       "<style scoped>\n",
       "    .dataframe tbody tr th:only-of-type {\n",
       "        vertical-align: middle;\n",
       "    }\n",
       "\n",
       "    .dataframe tbody tr th {\n",
       "        vertical-align: top;\n",
       "    }\n",
       "\n",
       "    .dataframe thead th {\n",
       "        text-align: right;\n",
       "    }\n",
       "</style>\n",
       "<table border=\"1\" class=\"dataframe\">\n",
       "  <thead>\n",
       "    <tr style=\"text-align: right;\">\n",
       "      <th></th>\n",
       "      <th>partner_id</th>\n",
       "      <th>customer_id</th>\n",
       "      <th>ord_type_code</th>\n",
       "      <th>service</th>\n",
       "      <th>order_id</th>\n",
       "      <th>ddate</th>\n",
       "      <th>first_purchase</th>\n",
       "      <th>number_of_purchases</th>\n",
       "      <th>ord_channel_type_code</th>\n",
       "      <th>ord_payment_status_code</th>\n",
       "      <th>coupon_code</th>\n",
       "      <th>sales</th>\n",
       "      <th>excess_subscription</th>\n",
       "      <th>pymt_order</th>\n",
       "      <th>pymt_order_upselling</th>\n",
       "      <th>pymt_subscription</th>\n",
       "      <th>pymt_subscription_excess</th>\n",
       "      <th>refund_order</th>\n",
       "      <th>refund_subscription</th>\n",
       "      <th>refund_subscription_excess</th>\n",
       "    </tr>\n",
       "  </thead>\n",
       "  <tbody>\n",
       "    <tr>\n",
       "      <th>0</th>\n",
       "      <td>74398</td>\n",
       "      <td>74698153</td>\n",
       "      <td>B2C</td>\n",
       "      <td>orders</td>\n",
       "      <td>74128047.0</td>\n",
       "      <td>2020-03-18</td>\n",
       "      <td>True</td>\n",
       "      <td>1</td>\n",
       "      <td>OFFLINE</td>\n",
       "      <td>PAID</td>\n",
       "      <td>NaN</td>\n",
       "      <td>135.0</td>\n",
       "      <td>0.0</td>\n",
       "      <td>135.0</td>\n",
       "      <td>0</td>\n",
       "      <td>0.0</td>\n",
       "      <td>0.0</td>\n",
       "      <td>0.0</td>\n",
       "      <td>0.0</td>\n",
       "      <td>0.0</td>\n",
       "    </tr>\n",
       "    <tr>\n",
       "      <th>1</th>\n",
       "      <td>74457</td>\n",
       "      <td>74698133</td>\n",
       "      <td>B2C</td>\n",
       "      <td>orders</td>\n",
       "      <td>74000506.0</td>\n",
       "      <td>2019-07-16</td>\n",
       "      <td>True</td>\n",
       "      <td>1</td>\n",
       "      <td>OFFLINE</td>\n",
       "      <td>PAID</td>\n",
       "      <td>NaN</td>\n",
       "      <td>75.0</td>\n",
       "      <td>0.0</td>\n",
       "      <td>75.0</td>\n",
       "      <td>0</td>\n",
       "      <td>0.0</td>\n",
       "      <td>0.0</td>\n",
       "      <td>0.0</td>\n",
       "      <td>0.0</td>\n",
       "      <td>0.0</td>\n",
       "    </tr>\n",
       "    <tr>\n",
       "      <th>2</th>\n",
       "      <td>74457</td>\n",
       "      <td>74698133</td>\n",
       "      <td>B2C</td>\n",
       "      <td>orders</td>\n",
       "      <td>73988814.0</td>\n",
       "      <td>2019-09-25</td>\n",
       "      <td>False</td>\n",
       "      <td>2</td>\n",
       "      <td>OFFLINE</td>\n",
       "      <td>PAID</td>\n",
       "      <td>NaN</td>\n",
       "      <td>75.0</td>\n",
       "      <td>0.0</td>\n",
       "      <td>75.0</td>\n",
       "      <td>0</td>\n",
       "      <td>0.0</td>\n",
       "      <td>0.0</td>\n",
       "      <td>0.0</td>\n",
       "      <td>0.0</td>\n",
       "      <td>0.0</td>\n",
       "    </tr>\n",
       "    <tr>\n",
       "      <th>3</th>\n",
       "      <td>74457</td>\n",
       "      <td>74698133</td>\n",
       "      <td>B2C</td>\n",
       "      <td>orders</td>\n",
       "      <td>73992133.0</td>\n",
       "      <td>2019-10-28</td>\n",
       "      <td>False</td>\n",
       "      <td>3</td>\n",
       "      <td>OFFLINE</td>\n",
       "      <td>PAID</td>\n",
       "      <td>NaN</td>\n",
       "      <td>100.0</td>\n",
       "      <td>0.0</td>\n",
       "      <td>100.0</td>\n",
       "      <td>0</td>\n",
       "      <td>0.0</td>\n",
       "      <td>0.0</td>\n",
       "      <td>0.0</td>\n",
       "      <td>0.0</td>\n",
       "      <td>0.0</td>\n",
       "    </tr>\n",
       "    <tr>\n",
       "      <th>4</th>\n",
       "      <td>74457</td>\n",
       "      <td>74698133</td>\n",
       "      <td>B2C</td>\n",
       "      <td>orders</td>\n",
       "      <td>74013759.0</td>\n",
       "      <td>2019-11-07</td>\n",
       "      <td>False</td>\n",
       "      <td>4</td>\n",
       "      <td>OFFLINE</td>\n",
       "      <td>PAID</td>\n",
       "      <td>NaN</td>\n",
       "      <td>120.0</td>\n",
       "      <td>0.0</td>\n",
       "      <td>120.0</td>\n",
       "      <td>0</td>\n",
       "      <td>0.0</td>\n",
       "      <td>0.0</td>\n",
       "      <td>0.0</td>\n",
       "      <td>0.0</td>\n",
       "      <td>0.0</td>\n",
       "    </tr>\n",
       "  </tbody>\n",
       "</table>\n",
       "</div>"
      ],
      "text/plain": [
       "   partner_id  customer_id ord_type_code service    order_id       ddate  \\\n",
       "0       74398     74698153           B2C  orders  74128047.0  2020-03-18   \n",
       "1       74457     74698133           B2C  orders  74000506.0  2019-07-16   \n",
       "2       74457     74698133           B2C  orders  73988814.0  2019-09-25   \n",
       "3       74457     74698133           B2C  orders  73992133.0  2019-10-28   \n",
       "4       74457     74698133           B2C  orders  74013759.0  2019-11-07   \n",
       "\n",
       "   first_purchase  number_of_purchases ord_channel_type_code  \\\n",
       "0            True                    1               OFFLINE   \n",
       "1            True                    1               OFFLINE   \n",
       "2           False                    2               OFFLINE   \n",
       "3           False                    3               OFFLINE   \n",
       "4           False                    4               OFFLINE   \n",
       "\n",
       "  ord_payment_status_code coupon_code  sales  excess_subscription  pymt_order  \\\n",
       "0                    PAID         NaN  135.0                  0.0       135.0   \n",
       "1                    PAID         NaN   75.0                  0.0        75.0   \n",
       "2                    PAID         NaN   75.0                  0.0        75.0   \n",
       "3                    PAID         NaN  100.0                  0.0       100.0   \n",
       "4                    PAID         NaN  120.0                  0.0       120.0   \n",
       "\n",
       "   pymt_order_upselling  pymt_subscription  pymt_subscription_excess  \\\n",
       "0                     0                0.0                       0.0   \n",
       "1                     0                0.0                       0.0   \n",
       "2                     0                0.0                       0.0   \n",
       "3                     0                0.0                       0.0   \n",
       "4                     0                0.0                       0.0   \n",
       "\n",
       "   refund_order  refund_subscription  refund_subscription_excess  \n",
       "0           0.0                  0.0                         0.0  \n",
       "1           0.0                  0.0                         0.0  \n",
       "2           0.0                  0.0                         0.0  \n",
       "3           0.0                  0.0                         0.0  \n",
       "4           0.0                  0.0                         0.0  "
      ]
     },
     "execution_count": 2,
     "metadata": {},
     "output_type": "execute_result"
    }
   ],
   "source": [
    "# Read csv data file and display first 5 records\n",
    "df = pd.read_csv('data/kpi_purchase_202111152150.csv', sep=';')\n",
    "df.head(5)"
   ]
  },
  {
   "cell_type": "code",
   "execution_count": 3,
   "id": "3a30079b",
   "metadata": {
    "scrolled": true
   },
   "outputs": [
    {
     "data": {
      "text/plain": [
       "Index(['partner_id', 'customer_id', 'ord_type_code', 'service', 'order_id',\n",
       "       'ddate', 'first_purchase', 'number_of_purchases',\n",
       "       'ord_channel_type_code', 'ord_payment_status_code', 'coupon_code',\n",
       "       'sales', 'excess_subscription', 'pymt_order', 'pymt_order_upselling',\n",
       "       'pymt_subscription', 'pymt_subscription_excess', 'refund_order',\n",
       "       'refund_subscription', 'refund_subscription_excess'],\n",
       "      dtype='object')"
      ]
     },
     "execution_count": 3,
     "metadata": {},
     "output_type": "execute_result"
    }
   ],
   "source": [
    "# Display column names\n",
    "df.columns"
   ]
  },
  {
   "cell_type": "code",
   "execution_count": 4,
   "id": "1db34777",
   "metadata": {},
   "outputs": [
    {
     "name": "stdout",
     "output_type": "stream",
     "text": [
      "<class 'pandas.core.frame.DataFrame'>\n",
      "RangeIndex: 162271 entries, 0 to 162270\n",
      "Data columns (total 20 columns):\n",
      " #   Column                      Non-Null Count   Dtype  \n",
      "---  ------                      --------------   -----  \n",
      " 0   partner_id                  162271 non-null  int64  \n",
      " 1   customer_id                 162271 non-null  int64  \n",
      " 2   ord_type_code               162271 non-null  object \n",
      " 3   service                     162271 non-null  object \n",
      " 4   order_id                    149357 non-null  float64\n",
      " 5   ddate                       162271 non-null  object \n",
      " 6   first_purchase              162271 non-null  bool   \n",
      " 7   number_of_purchases         162271 non-null  int64  \n",
      " 8   ord_channel_type_code       162271 non-null  object \n",
      " 9   ord_payment_status_code     162271 non-null  object \n",
      " 10  coupon_code                 9188 non-null    object \n",
      " 11  sales                       162271 non-null  float64\n",
      " 12  excess_subscription         162271 non-null  float64\n",
      " 13  pymt_order                  162271 non-null  float64\n",
      " 14  pymt_order_upselling        162271 non-null  int64  \n",
      " 15  pymt_subscription           162271 non-null  float64\n",
      " 16  pymt_subscription_excess    162271 non-null  float64\n",
      " 17  refund_order                162271 non-null  float64\n",
      " 18  refund_subscription         162271 non-null  float64\n",
      " 19  refund_subscription_excess  162271 non-null  float64\n",
      "dtypes: bool(1), float64(9), int64(4), object(6)\n",
      "memory usage: 23.7+ MB\n"
     ]
    }
   ],
   "source": [
    "# Display info about df\n",
    "df.info()"
   ]
  },
  {
   "cell_type": "markdown",
   "id": "6c060530",
   "metadata": {},
   "source": [
    "There are null values in two feature columns, order_id and coupon_code."
   ]
  },
  {
   "cell_type": "code",
   "execution_count": 5,
   "id": "7003fec8",
   "metadata": {},
   "outputs": [
    {
     "data": {
      "text/plain": [
       "partner_id                         0\n",
       "customer_id                        0\n",
       "ord_type_code                      0\n",
       "service                            0\n",
       "order_id                       12914\n",
       "ddate                              0\n",
       "first_purchase                     0\n",
       "number_of_purchases                0\n",
       "ord_channel_type_code              0\n",
       "ord_payment_status_code            0\n",
       "coupon_code                   153083\n",
       "sales                              0\n",
       "excess_subscription                0\n",
       "pymt_order                         0\n",
       "pymt_order_upselling               0\n",
       "pymt_subscription                  0\n",
       "pymt_subscription_excess           0\n",
       "refund_order                       0\n",
       "refund_subscription                0\n",
       "refund_subscription_excess         0\n",
       "dtype: int64"
      ]
     },
     "execution_count": 5,
     "metadata": {},
     "output_type": "execute_result"
    }
   ],
   "source": [
    "# sum NaN by feature\n",
    "df.isna().sum()"
   ]
  },
  {
   "cell_type": "markdown",
   "id": "00f06215",
   "metadata": {},
   "source": [
    "As we saw with the info() method, there are NaNs in 'coupon_code' and 'order_id' feature columns. Order_id useless data for the purposes of machine learning (useless data is unique, discrete data with no potential relationship with the outcome variable. -- https://towardsdatascience.com/7-data-types-a-better-way-to-think-about-data-types-for-machine-learning-939fae99a689). "
   ]
  },
  {
   "cell_type": "code",
   "execution_count": 6,
   "id": "b0e4c0db",
   "metadata": {},
   "outputs": [],
   "source": [
    "# Fill NaN order_ids with 0\n",
    "df['order_id'].fillna(0, inplace=True)"
   ]
  },
  {
   "cell_type": "code",
   "execution_count": 7,
   "id": "0f897baf",
   "metadata": {},
   "outputs": [],
   "source": [
    "# Set dtype of order_id to int\n",
    "df.order_id = df.order_id.astype(int)"
   ]
  },
  {
   "cell_type": "markdown",
   "id": "c1ea7c92",
   "metadata": {},
   "source": [
    "Let's look at the coupon_code feature. There seem to be a lot of different codes. The NaNs represent that no coupon was used."
   ]
  },
  {
   "cell_type": "markdown",
   "id": "35cf83a1",
   "metadata": {},
   "source": [
    "As a person who uses coupons to try new services when I'm not certain of the value, I suspect that people who use coupons are more likely to churn than those who do not use coupons. \n"
   ]
  },
  {
   "cell_type": "code",
   "execution_count": 8,
   "id": "6c506efb",
   "metadata": {},
   "outputs": [
    {
     "data": {
      "text/plain": [
       "coupon_code\n",
       "ACGFREEDELIVERY    1364\n",
       "OIBRASIL            467\n",
       "MJSB-CD_EDREDOM     355\n",
       "FRETEGRATIS         327\n",
       "LOGISTICAMOEMA      299\n",
       "                   ... \n",
       "ITALOM03              1\n",
       "ITALOA11              1\n",
       "ISISZ03               1\n",
       "ISADORAD05            1\n",
       "YURIM26               1\n",
       "Length: 773, dtype: int64"
      ]
     },
     "execution_count": 8,
     "metadata": {},
     "output_type": "execute_result"
    }
   ],
   "source": [
    "# How many unique coupon_code values and how often are they used?\n",
    "df.groupby(['coupon_code']).size().sort_values(ascending=False)"
   ]
  },
  {
   "cell_type": "code",
   "execution_count": 9,
   "id": "1d03f64c",
   "metadata": {},
   "outputs": [],
   "source": [
    "# Create dictionary in order to find how many codes are used only once or twice\n",
    "coup_dict = df.groupby('coupon_code').size().to_dict()"
   ]
  },
  {
   "cell_type": "code",
   "execution_count": 10,
   "id": "17d5c1fc",
   "metadata": {},
   "outputs": [],
   "source": [
    "# Counter is imported at top. Count dict values\n",
    "coup_counter = Counter(coup_dict.values())"
   ]
  },
  {
   "cell_type": "code",
   "execution_count": 11,
   "id": "00849cd5",
   "metadata": {},
   "outputs": [
    {
     "name": "stdout",
     "output_type": "stream",
     "text": [
      "Counter({1: 402, 2: 139, 3: 43, 4: 29, 6: 16, 5: 10, 7: 9, 8: 8, 12: 7, 10: 6, 23: 5, 9: 5, 14: 4, 29: 4, 16: 4, 21: 3, 58: 3, 25: 3, 18: 3, 50: 3, 34: 3, 11: 3, 49: 2, 13: 2, 42: 2, 35: 2, 20: 2, 22: 2, 19: 2, 122: 2, 60: 2, 56: 2, 15: 2, 70: 2, 28: 1, 61: 1, 72: 1, 1364: 1, 236: 1, 27: 1, 33: 1, 38: 1, 238: 1, 94: 1, 59: 1, 327: 1, 31: 1, 86: 1, 81: 1, 82: 1, 48: 1, 129: 1, 67: 1, 272: 1, 299: 1, 73: 1, 239: 1, 355: 1, 68: 1, 17: 1, 95: 1, 52: 1, 467: 1, 39: 1, 109: 1, 87: 1, 24: 1, 104: 1, 218: 1, 37: 1, 97: 1})\n"
     ]
    }
   ],
   "source": [
    "# display coup_counter\n",
    "print(coup_counter)"
   ]
  },
  {
   "cell_type": "markdown",
   "id": "6b352a1c",
   "metadata": {},
   "source": [
    "There are 773 unique coupon_codes. Some are used many times, but 641 codes were used only 1 or 2 times. The actual coupon code should not be used as it would introduce far too many features of questionable import. The importance is only the presence of a coupon code, or not. Let's create a new feature which only indicates whether a coupon was used or not. \n",
    "We do not need to use one-hot encoding in this case since we do not have any information about the discounts for each code. Instead we only need a yes/no, 1 for a coupon, 0 for no coupon. \n",
    "Then, we can drop the coupon_code columns. "
   ]
  },
  {
   "cell_type": "code",
   "execution_count": 12,
   "id": "d0f4efee",
   "metadata": {},
   "outputs": [],
   "source": [
    "# create column 'coupon_code_cat' where a null value in 'coupon_code'\n",
    "# indicates a 0, else a 1\n",
    "df['couponUsed'] = df[['coupon_code']].notnull().astype(int)"
   ]
  },
  {
   "cell_type": "code",
   "execution_count": 13,
   "id": "99d98506",
   "metadata": {},
   "outputs": [
    {
     "data": {
      "text/html": [
       "<div>\n",
       "<style scoped>\n",
       "    .dataframe tbody tr th:only-of-type {\n",
       "        vertical-align: middle;\n",
       "    }\n",
       "\n",
       "    .dataframe tbody tr th {\n",
       "        vertical-align: top;\n",
       "    }\n",
       "\n",
       "    .dataframe thead th {\n",
       "        text-align: right;\n",
       "    }\n",
       "</style>\n",
       "<table border=\"1\" class=\"dataframe\">\n",
       "  <thead>\n",
       "    <tr style=\"text-align: right;\">\n",
       "      <th></th>\n",
       "      <th>partner_id</th>\n",
       "      <th>customer_id</th>\n",
       "      <th>ord_type_code</th>\n",
       "      <th>service</th>\n",
       "      <th>order_id</th>\n",
       "      <th>ddate</th>\n",
       "      <th>first_purchase</th>\n",
       "      <th>number_of_purchases</th>\n",
       "      <th>ord_channel_type_code</th>\n",
       "      <th>ord_payment_status_code</th>\n",
       "      <th>sales</th>\n",
       "      <th>excess_subscription</th>\n",
       "      <th>pymt_order</th>\n",
       "      <th>pymt_order_upselling</th>\n",
       "      <th>pymt_subscription</th>\n",
       "      <th>pymt_subscription_excess</th>\n",
       "      <th>refund_order</th>\n",
       "      <th>refund_subscription</th>\n",
       "      <th>refund_subscription_excess</th>\n",
       "      <th>couponUsed</th>\n",
       "    </tr>\n",
       "  </thead>\n",
       "  <tbody>\n",
       "    <tr>\n",
       "      <th>162266</th>\n",
       "      <td>74372</td>\n",
       "      <td>292327026</td>\n",
       "      <td>PLAN_S_BR</td>\n",
       "      <td>subscription</td>\n",
       "      <td>0</td>\n",
       "      <td>2021-06-01</td>\n",
       "      <td>False</td>\n",
       "      <td>8</td>\n",
       "      <td>OFFLINE</td>\n",
       "      <td>UNPAID</td>\n",
       "      <td>208.0</td>\n",
       "      <td>0.0</td>\n",
       "      <td>0.0</td>\n",
       "      <td>0</td>\n",
       "      <td>0.0</td>\n",
       "      <td>0.0</td>\n",
       "      <td>0.0</td>\n",
       "      <td>0.0</td>\n",
       "      <td>0.0</td>\n",
       "      <td>1</td>\n",
       "    </tr>\n",
       "    <tr>\n",
       "      <th>162267</th>\n",
       "      <td>74372</td>\n",
       "      <td>292327026</td>\n",
       "      <td>PLAN_S_BR</td>\n",
       "      <td>subscription</td>\n",
       "      <td>0</td>\n",
       "      <td>2021-06-21</td>\n",
       "      <td>False</td>\n",
       "      <td>9</td>\n",
       "      <td>OFFLINE</td>\n",
       "      <td>PAID</td>\n",
       "      <td>187.2</td>\n",
       "      <td>0.0</td>\n",
       "      <td>0.0</td>\n",
       "      <td>0</td>\n",
       "      <td>208.0</td>\n",
       "      <td>0.0</td>\n",
       "      <td>0.0</td>\n",
       "      <td>-20.8</td>\n",
       "      <td>0.0</td>\n",
       "      <td>1</td>\n",
       "    </tr>\n",
       "    <tr>\n",
       "      <th>162268</th>\n",
       "      <td>74372</td>\n",
       "      <td>292327026</td>\n",
       "      <td>PLAN_S_BR</td>\n",
       "      <td>subscription</td>\n",
       "      <td>0</td>\n",
       "      <td>2021-07-28</td>\n",
       "      <td>False</td>\n",
       "      <td>10</td>\n",
       "      <td>OFFLINE</td>\n",
       "      <td>PAID</td>\n",
       "      <td>208.0</td>\n",
       "      <td>0.0</td>\n",
       "      <td>0.0</td>\n",
       "      <td>0</td>\n",
       "      <td>208.0</td>\n",
       "      <td>0.0</td>\n",
       "      <td>0.0</td>\n",
       "      <td>0.0</td>\n",
       "      <td>0.0</td>\n",
       "      <td>1</td>\n",
       "    </tr>\n",
       "    <tr>\n",
       "      <th>162269</th>\n",
       "      <td>74372</td>\n",
       "      <td>292327026</td>\n",
       "      <td>PLAN_S_BR</td>\n",
       "      <td>subscription</td>\n",
       "      <td>0</td>\n",
       "      <td>2021-08-13</td>\n",
       "      <td>False</td>\n",
       "      <td>11</td>\n",
       "      <td>OFFLINE</td>\n",
       "      <td>PAID</td>\n",
       "      <td>208.0</td>\n",
       "      <td>0.0</td>\n",
       "      <td>0.0</td>\n",
       "      <td>0</td>\n",
       "      <td>208.0</td>\n",
       "      <td>0.0</td>\n",
       "      <td>0.0</td>\n",
       "      <td>0.0</td>\n",
       "      <td>0.0</td>\n",
       "      <td>1</td>\n",
       "    </tr>\n",
       "    <tr>\n",
       "      <th>162270</th>\n",
       "      <td>74372</td>\n",
       "      <td>292327026</td>\n",
       "      <td>PLAN_S_BR</td>\n",
       "      <td>subscription</td>\n",
       "      <td>0</td>\n",
       "      <td>2021-09-20</td>\n",
       "      <td>False</td>\n",
       "      <td>12</td>\n",
       "      <td>OFFLINE</td>\n",
       "      <td>PAID</td>\n",
       "      <td>208.0</td>\n",
       "      <td>0.0</td>\n",
       "      <td>0.0</td>\n",
       "      <td>0</td>\n",
       "      <td>208.0</td>\n",
       "      <td>0.0</td>\n",
       "      <td>0.0</td>\n",
       "      <td>0.0</td>\n",
       "      <td>0.0</td>\n",
       "      <td>1</td>\n",
       "    </tr>\n",
       "  </tbody>\n",
       "</table>\n",
       "</div>"
      ],
      "text/plain": [
       "        partner_id  customer_id ord_type_code       service  order_id  \\\n",
       "162266       74372    292327026     PLAN_S_BR  subscription         0   \n",
       "162267       74372    292327026     PLAN_S_BR  subscription         0   \n",
       "162268       74372    292327026     PLAN_S_BR  subscription         0   \n",
       "162269       74372    292327026     PLAN_S_BR  subscription         0   \n",
       "162270       74372    292327026     PLAN_S_BR  subscription         0   \n",
       "\n",
       "             ddate  first_purchase  number_of_purchases ord_channel_type_code  \\\n",
       "162266  2021-06-01           False                    8               OFFLINE   \n",
       "162267  2021-06-21           False                    9               OFFLINE   \n",
       "162268  2021-07-28           False                   10               OFFLINE   \n",
       "162269  2021-08-13           False                   11               OFFLINE   \n",
       "162270  2021-09-20           False                   12               OFFLINE   \n",
       "\n",
       "       ord_payment_status_code  sales  excess_subscription  pymt_order  \\\n",
       "162266                  UNPAID  208.0                  0.0         0.0   \n",
       "162267                    PAID  187.2                  0.0         0.0   \n",
       "162268                    PAID  208.0                  0.0         0.0   \n",
       "162269                    PAID  208.0                  0.0         0.0   \n",
       "162270                    PAID  208.0                  0.0         0.0   \n",
       "\n",
       "        pymt_order_upselling  pymt_subscription  pymt_subscription_excess  \\\n",
       "162266                     0                0.0                       0.0   \n",
       "162267                     0              208.0                       0.0   \n",
       "162268                     0              208.0                       0.0   \n",
       "162269                     0              208.0                       0.0   \n",
       "162270                     0              208.0                       0.0   \n",
       "\n",
       "        refund_order  refund_subscription  refund_subscription_excess  \\\n",
       "162266           0.0                  0.0                         0.0   \n",
       "162267           0.0                -20.8                         0.0   \n",
       "162268           0.0                  0.0                         0.0   \n",
       "162269           0.0                  0.0                         0.0   \n",
       "162270           0.0                  0.0                         0.0   \n",
       "\n",
       "        couponUsed  \n",
       "162266           1  \n",
       "162267           1  \n",
       "162268           1  \n",
       "162269           1  \n",
       "162270           1  "
      ]
     },
     "execution_count": 13,
     "metadata": {},
     "output_type": "execute_result"
    }
   ],
   "source": [
    "df.drop(['coupon_code'], axis=1, inplace=True)\n",
    "df.tail()"
   ]
  },
  {
   "cell_type": "markdown",
   "id": "d4f134a8",
   "metadata": {},
   "source": [
    "Let's go forward, looking at each column individually. \n",
    "First we have an index column.\n",
    "Next is a partner_id. How many unique values are in partner_id, and what is the datatype?"
   ]
  },
  {
   "cell_type": "code",
   "execution_count": 14,
   "id": "37ab4ec5",
   "metadata": {},
   "outputs": [
    {
     "data": {
      "text/plain": [
       "(82, dtype('int64'))"
      ]
     },
     "execution_count": 14,
     "metadata": {},
     "output_type": "execute_result"
    }
   ],
   "source": [
    "# Count num of unique partner IDs\n",
    "df.partner_id.nunique(), df.partner_id.dtypes"
   ]
  },
  {
   "cell_type": "markdown",
   "id": "e9fe9039",
   "metadata": {},
   "source": [
    "There are 82 unique partner_ids, which represent locations. The datatype is integer, which is appropriate. What is the distribution of orders by partner_id?"
   ]
  },
  {
   "cell_type": "code",
   "execution_count": 15,
   "id": "a43102f4",
   "metadata": {},
   "outputs": [
    {
     "name": "stdout",
     "output_type": "stream",
     "text": [
      "19 , 8383\n"
     ]
    }
   ],
   "source": [
    "partnerDist = df.groupby('partner_id').size().sort_values()\n",
    "print(partnerDist.min(),\",\", partnerDist.max())"
   ]
  },
  {
   "cell_type": "code",
   "execution_count": 16,
   "id": "6db218c2",
   "metadata": {},
   "outputs": [
    {
     "data": {
      "text/plain": [
       "<AxesSubplot:xlabel='partner_id'>"
      ]
     },
     "execution_count": 16,
     "metadata": {},
     "output_type": "execute_result"
    },
    {
     "data": {
      "image/png": "[encoded data removed]",
      "text/plain": [
       "<Figure size 432x288 with 1 Axes>"
      ]
     },
     "metadata": {
      "needs_background": "light"
     },
     "output_type": "display_data"
    }
   ],
   "source": [
    "# plot hist of partner_id by number of orders\n",
    "partnerDist.plot(kind='bar')"
   ]
  },
  {
   "cell_type": "markdown",
   "id": "f5c30974",
   "metadata": {},
   "source": [
    "This plot is a bit silly, but it shows that the locations have between 19 and 8000+ transactions. We don't information about where they're located or how long they've been open. We don't want to one-hot encode 82 partner locations, and we can't group them by anything based on the information that we have. As it stands, we will not use this feature for machine learning.  "
   ]
  },
  {
   "cell_type": "markdown",
   "id": "0acb1d1f",
   "metadata": {},
   "source": [
    "Next, we have customer_id. Check the datatype:"
   ]
  },
  {
   "cell_type": "code",
   "execution_count": 17,
   "id": "19fa3a38",
   "metadata": {},
   "outputs": [
    {
     "data": {
      "text/plain": [
       "dtype('int64')"
      ]
     },
     "execution_count": 17,
     "metadata": {},
     "output_type": "execute_result"
    }
   ],
   "source": [
    "df.dtypes['customer_id']"
   ]
  },
  {
   "cell_type": "markdown",
   "id": "d8d05111",
   "metadata": {},
   "source": [
    "The next two columns are 'ord_type_code' and 'service'. First, check the contents, looking at the type of data, possible values, and distribution."
   ]
  },
  {
   "cell_type": "code",
   "execution_count": 18,
   "id": "d3277003",
   "metadata": {},
   "outputs": [
    {
     "data": {
      "text/plain": [
       "(array(['B2C', 'SUBSCRIPTION', 'PLAN_XS_BR', 'PLAN_LAVA_PLANCHA_BR',\n",
       "        'PLAN_PLANCHA_BR', 'PLAN_S_BR', 'PLAN_M_BR', 'PLAN_L_BR',\n",
       "        'PLAN_XL_BR'], dtype=object),\n",
       " 9)"
      ]
     },
     "execution_count": 18,
     "metadata": {},
     "output_type": "execute_result"
    }
   ],
   "source": [
    "# Look at values of ord_type_code. \n",
    "df.ord_type_code.unique(), df.ord_type_code.nunique()"
   ]
  },
  {
   "cell_type": "markdown",
   "id": "5fa90994",
   "metadata": {},
   "source": [
    "There are 9 unique order types. How are order types divided across service types? Do they represent separate characteristics that should both be included in the data?"
   ]
  },
  {
   "cell_type": "code",
   "execution_count": 19,
   "id": "9fe2c550",
   "metadata": {},
   "outputs": [
    {
     "name": "stdout",
     "output_type": "stream",
     "text": [
      "ord_type_code\n",
      "B2C                     109006\n",
      "PLAN_LAVA_PLANCHA_BR      1687\n",
      "PLAN_L_BR                   87\n",
      "PLAN_M_BR                 1115\n",
      "PLAN_PLANCHA_BR            724\n",
      "PLAN_S_BR                 5898\n",
      "PLAN_XL_BR                  14\n",
      "PLAN_XS_BR                3389\n",
      "SUBSCRIPTION             40351\n",
      "dtype: int64\n"
     ]
    }
   ],
   "source": [
    "# Print out sizes of order_type_code cohorts\n",
    "print(df.groupby(['ord_type_code']).size())"
   ]
  },
  {
   "cell_type": "code",
   "execution_count": 20,
   "id": "90f36274",
   "metadata": {},
   "outputs": [
    {
     "name": "stdout",
     "output_type": "stream",
     "text": [
      "ord_type_code       B2C  PLAN_LAVA_PLANCHA_BR  PLAN_L_BR  PLAN_M_BR  \\\n",
      "service                                                               \n",
      "orders         109006.0                   0.0        0.0        0.0   \n",
      "subscription        0.0                1687.0       87.0     1115.0   \n",
      "\n",
      "ord_type_code  PLAN_PLANCHA_BR  PLAN_S_BR  PLAN_XL_BR  PLAN_XS_BR  \\\n",
      "service                                                             \n",
      "orders                     0.0        0.0         0.0         0.0   \n",
      "subscription             724.0     5898.0        14.0      3389.0   \n",
      "\n",
      "ord_type_code  SUBSCRIPTION  \n",
      "service                      \n",
      "orders              40351.0  \n",
      "subscription            0.0  \n"
     ]
    }
   ],
   "source": [
    "# Price out sizes of service type cohorts.\n",
    "serv_ord = df.groupby(['service', 'ord_type_code']).size().unstack().fillna(0)\n",
    "print(serv_ord)"
   ]
  },
  {
   "cell_type": "code",
   "execution_count": 21,
   "id": "b13615c9",
   "metadata": {},
   "outputs": [
    {
     "data": {
      "text/plain": [
       "<matplotlib.legend.Legend at 0x1ae82885730>"
      ]
     },
     "execution_count": 21,
     "metadata": {},
     "output_type": "execute_result"
    },
    {
     "data": {
      "image/png": "[encoded data removed]",
      "text/plain": [
       "<Figure size 576x576 with 1 Axes>"
      ]
     },
     "metadata": {
      "needs_background": "light"
     },
     "output_type": "display_data"
    }
   ],
   "source": [
    "# Plot transactions by order type and service\n",
    "\n",
    "fig, ax = plt.subplots(figsize=(8,8))\n",
    "\n",
    "# Initialize the bottom at zero for the first set of bars.\n",
    "bottom = np.zeros(len(serv_ord))\n",
    "\n",
    "# Plot each layer of the bar, adding each bar to the \"bottom\" so\n",
    "# the next bar starts higher.\n",
    "for i, col in enumerate(serv_ord.columns):\n",
    "  ax.bar(serv_ord.index, serv_ord[col], bottom=bottom, label=col)\n",
    "  bottom += np.array(serv_ord[col])\n",
    "\n",
    "ax.set_title('Transactions by Order Type and Service')\n",
    "ax.legend()\n"
   ]
  },
  {
   "cell_type": "markdown",
   "id": "deb5e132",
   "metadata": {},
   "source": [
    "Because there are two possible values within the 'service' feature, and no null entries, it is easy to create a new categorical column to capture this data. \n",
    "\n",
    "Use sklearn's OneHotEncoder instead of panda's get_dummies method, becuase OneHotEncoder will save the exploded categories into it's object, and it will work better if sometimes there are more than two categories.\n",
    "\n",
    "'Subscription' - when someone has a subscription and requests a service covered by that subscription\n",
    "'Order' - purchase without any subscription, or a purchase of excess services not included by a customer's subscription"
   ]
  },
  {
   "cell_type": "code",
   "execution_count": 22,
   "id": "e502310a",
   "metadata": {},
   "outputs": [],
   "source": [
    "# Instantiate OneHotEncoder for 'service' feature\n",
    "enc_serv = OneHotEncoder(drop='first')\n",
    "\n",
    "#perform one-hot encoding on 'service' column \n",
    "enc_serv_df = pd.DataFrame(enc_serv.fit_transform(df[['service']]).toarray())"
   ]
  },
  {
   "cell_type": "code",
   "execution_count": 23,
   "id": "a1dd4cb9",
   "metadata": {},
   "outputs": [],
   "source": [
    "# join encoded column(s) to original df\n",
    "df = df.join(enc_serv_df)"
   ]
  },
  {
   "cell_type": "code",
   "execution_count": 24,
   "id": "1438072b",
   "metadata": {},
   "outputs": [],
   "source": [
    "# rename onehotencoder'ed column\n",
    "df.rename(columns = {0:'service_cat'}, inplace=True)"
   ]
  },
  {
   "cell_type": "code",
   "execution_count": 25,
   "id": "64e4dd7a",
   "metadata": {},
   "outputs": [
    {
     "data": {
      "text/plain": [
       "[array(['orders', 'subscription'], dtype=object)]"
      ]
     },
     "execution_count": 25,
     "metadata": {},
     "output_type": "execute_result"
    }
   ],
   "source": [
    "# Check encoder categories\n",
    "enc_serv.categories_"
   ]
  },
  {
   "cell_type": "markdown",
   "id": "f96fed64",
   "metadata": {},
   "source": [
    "After that, we have 'ddate'. This may be compelling data. First, make sure the column is of a type, 'datetime'. Then let's create a new feature indicating 'weekday' vs 'weekend'. "
   ]
  },
  {
   "cell_type": "code",
   "execution_count": 26,
   "id": "8b9d94cf",
   "metadata": {},
   "outputs": [
    {
     "data": {
      "text/plain": [
       "dtype('O')"
      ]
     },
     "execution_count": 26,
     "metadata": {},
     "output_type": "execute_result"
    }
   ],
   "source": [
    "# What type of data is the ddate column?\n",
    "df.dtypes['ddate']"
   ]
  },
  {
   "cell_type": "code",
   "execution_count": 27,
   "id": "b6b38432",
   "metadata": {},
   "outputs": [
    {
     "data": {
      "text/plain": [
       "dtype('<M8[ns]')"
      ]
     },
     "execution_count": 27,
     "metadata": {},
     "output_type": "execute_result"
    }
   ],
   "source": [
    "# Specify format and convert to datetime\n",
    "timefmt = \"%Y-%m-%d\" \n",
    "df['ddate'] = pd.to_datetime(df['ddate'], format = timefmt, errors='coerce')\n",
    "df.rename(columns={'ddate':'order_date'}, inplace=True)\n",
    "df.dtypes['order_date']"
   ]
  },
  {
   "cell_type": "code",
   "execution_count": 28,
   "id": "759f3e71",
   "metadata": {},
   "outputs": [
    {
     "data": {
      "text/plain": [
       "True"
      ]
     },
     "execution_count": 28,
     "metadata": {},
     "output_type": "execute_result"
    }
   ],
   "source": [
    "# Look at odd datetime object type\n",
    "np.dtype('datetime64[ns]') == np.dtype('<M8[ns]')"
   ]
  },
  {
   "cell_type": "code",
   "execution_count": 29,
   "id": "b136523a",
   "metadata": {},
   "outputs": [
    {
     "data": {
      "text/html": [
       "<div>\n",
       "<style scoped>\n",
       "    .dataframe tbody tr th:only-of-type {\n",
       "        vertical-align: middle;\n",
       "    }\n",
       "\n",
       "    .dataframe tbody tr th {\n",
       "        vertical-align: top;\n",
       "    }\n",
       "\n",
       "    .dataframe thead th {\n",
       "        text-align: right;\n",
       "    }\n",
       "</style>\n",
       "<table border=\"1\" class=\"dataframe\">\n",
       "  <thead>\n",
       "    <tr style=\"text-align: right;\">\n",
       "      <th></th>\n",
       "      <th>partner_id</th>\n",
       "      <th>customer_id</th>\n",
       "      <th>ord_type_code</th>\n",
       "      <th>service</th>\n",
       "      <th>order_id</th>\n",
       "      <th>order_date</th>\n",
       "      <th>first_purchase</th>\n",
       "      <th>number_of_purchases</th>\n",
       "      <th>ord_channel_type_code</th>\n",
       "      <th>ord_payment_status_code</th>\n",
       "      <th>...</th>\n",
       "      <th>excess_subscription</th>\n",
       "      <th>pymt_order</th>\n",
       "      <th>pymt_order_upselling</th>\n",
       "      <th>pymt_subscription</th>\n",
       "      <th>pymt_subscription_excess</th>\n",
       "      <th>refund_order</th>\n",
       "      <th>refund_subscription</th>\n",
       "      <th>refund_subscription_excess</th>\n",
       "      <th>couponUsed</th>\n",
       "      <th>service_cat</th>\n",
       "    </tr>\n",
       "  </thead>\n",
       "  <tbody>\n",
       "    <tr>\n",
       "      <th>121649</th>\n",
       "      <td>104269</td>\n",
       "      <td>391927226</td>\n",
       "      <td>B2C</td>\n",
       "      <td>orders</td>\n",
       "      <td>729228944</td>\n",
       "      <td>2021-11-13</td>\n",
       "      <td>False</td>\n",
       "      <td>2</td>\n",
       "      <td>OFFLINE</td>\n",
       "      <td>UNPAID</td>\n",
       "      <td>...</td>\n",
       "      <td>0.0</td>\n",
       "      <td>0.0</td>\n",
       "      <td>0</td>\n",
       "      <td>0.0</td>\n",
       "      <td>0.0</td>\n",
       "      <td>0.0</td>\n",
       "      <td>0.0</td>\n",
       "      <td>0.0</td>\n",
       "      <td>0</td>\n",
       "      <td>0.0</td>\n",
       "    </tr>\n",
       "    <tr>\n",
       "      <th>92850</th>\n",
       "      <td>127836</td>\n",
       "      <td>75279459</td>\n",
       "      <td>B2C</td>\n",
       "      <td>orders</td>\n",
       "      <td>729392304</td>\n",
       "      <td>2021-11-13</td>\n",
       "      <td>False</td>\n",
       "      <td>32</td>\n",
       "      <td>OFFLINE</td>\n",
       "      <td>UNPAID</td>\n",
       "      <td>...</td>\n",
       "      <td>0.0</td>\n",
       "      <td>0.0</td>\n",
       "      <td>0</td>\n",
       "      <td>0.0</td>\n",
       "      <td>0.0</td>\n",
       "      <td>0.0</td>\n",
       "      <td>0.0</td>\n",
       "      <td>0.0</td>\n",
       "      <td>1</td>\n",
       "      <td>0.0</td>\n",
       "    </tr>\n",
       "    <tr>\n",
       "      <th>101172</th>\n",
       "      <td>415295</td>\n",
       "      <td>1155535826</td>\n",
       "      <td>B2C</td>\n",
       "      <td>orders</td>\n",
       "      <td>729345989</td>\n",
       "      <td>2021-11-13</td>\n",
       "      <td>True</td>\n",
       "      <td>1</td>\n",
       "      <td>OFFLINE</td>\n",
       "      <td>PAID</td>\n",
       "      <td>...</td>\n",
       "      <td>0.0</td>\n",
       "      <td>30.0</td>\n",
       "      <td>0</td>\n",
       "      <td>0.0</td>\n",
       "      <td>0.0</td>\n",
       "      <td>0.0</td>\n",
       "      <td>0.0</td>\n",
       "      <td>0.0</td>\n",
       "      <td>0</td>\n",
       "      <td>0.0</td>\n",
       "    </tr>\n",
       "    <tr>\n",
       "      <th>129127</th>\n",
       "      <td>415295</td>\n",
       "      <td>1155316343</td>\n",
       "      <td>B2C</td>\n",
       "      <td>orders</td>\n",
       "      <td>728706530</td>\n",
       "      <td>2021-11-13</td>\n",
       "      <td>True</td>\n",
       "      <td>1</td>\n",
       "      <td>OFFLINE</td>\n",
       "      <td>UNPAID</td>\n",
       "      <td>...</td>\n",
       "      <td>0.0</td>\n",
       "      <td>0.0</td>\n",
       "      <td>0</td>\n",
       "      <td>0.0</td>\n",
       "      <td>0.0</td>\n",
       "      <td>0.0</td>\n",
       "      <td>0.0</td>\n",
       "      <td>0.0</td>\n",
       "      <td>0</td>\n",
       "      <td>0.0</td>\n",
       "    </tr>\n",
       "    <tr>\n",
       "      <th>151293</th>\n",
       "      <td>75146</td>\n",
       "      <td>74835321</td>\n",
       "      <td>PLAN_PLANCHA_BR</td>\n",
       "      <td>subscription</td>\n",
       "      <td>0</td>\n",
       "      <td>2021-11-14</td>\n",
       "      <td>False</td>\n",
       "      <td>12</td>\n",
       "      <td>ONLINE</td>\n",
       "      <td>UNPAID</td>\n",
       "      <td>...</td>\n",
       "      <td>0.0</td>\n",
       "      <td>0.0</td>\n",
       "      <td>0</td>\n",
       "      <td>0.0</td>\n",
       "      <td>0.0</td>\n",
       "      <td>0.0</td>\n",
       "      <td>0.0</td>\n",
       "      <td>0.0</td>\n",
       "      <td>0</td>\n",
       "      <td>1.0</td>\n",
       "    </tr>\n",
       "  </tbody>\n",
       "</table>\n",
       "<p>5 rows × 21 columns</p>\n",
       "</div>"
      ],
      "text/plain": [
       "        partner_id  customer_id    ord_type_code       service   order_id  \\\n",
       "121649      104269    391927226              B2C        orders  729228944   \n",
       "92850       127836     75279459              B2C        orders  729392304   \n",
       "101172      415295   1155535826              B2C        orders  729345989   \n",
       "129127      415295   1155316343              B2C        orders  728706530   \n",
       "151293       75146     74835321  PLAN_PLANCHA_BR  subscription          0   \n",
       "\n",
       "       order_date  first_purchase  number_of_purchases ord_channel_type_code  \\\n",
       "121649 2021-11-13           False                    2               OFFLINE   \n",
       "92850  2021-11-13           False                   32               OFFLINE   \n",
       "101172 2021-11-13            True                    1               OFFLINE   \n",
       "129127 2021-11-13            True                    1               OFFLINE   \n",
       "151293 2021-11-14           False                   12                ONLINE   \n",
       "\n",
       "       ord_payment_status_code  ...  excess_subscription  pymt_order  \\\n",
       "121649                  UNPAID  ...                  0.0         0.0   \n",
       "92850                   UNPAID  ...                  0.0         0.0   \n",
       "101172                    PAID  ...                  0.0        30.0   \n",
       "129127                  UNPAID  ...                  0.0         0.0   \n",
       "151293                  UNPAID  ...                  0.0         0.0   \n",
       "\n",
       "        pymt_order_upselling  pymt_subscription  pymt_subscription_excess  \\\n",
       "121649                     0                0.0                       0.0   \n",
       "92850                      0                0.0                       0.0   \n",
       "101172                     0                0.0                       0.0   \n",
       "129127                     0                0.0                       0.0   \n",
       "151293                     0                0.0                       0.0   \n",
       "\n",
       "        refund_order  refund_subscription  refund_subscription_excess  \\\n",
       "121649           0.0                  0.0                         0.0   \n",
       "92850            0.0                  0.0                         0.0   \n",
       "101172           0.0                  0.0                         0.0   \n",
       "129127           0.0                  0.0                         0.0   \n",
       "151293           0.0                  0.0                         0.0   \n",
       "\n",
       "        couponUsed  service_cat  \n",
       "121649           0          0.0  \n",
       "92850            1          0.0  \n",
       "101172           0          0.0  \n",
       "129127           0          0.0  \n",
       "151293           0          1.0  \n",
       "\n",
       "[5 rows x 21 columns]"
      ]
     },
     "execution_count": 29,
     "metadata": {},
     "output_type": "execute_result"
    }
   ],
   "source": [
    "# Sort by date of order\n",
    "df.sort_values(['order_date', 'partner_id'], inplace=True)\n",
    "df.tail()"
   ]
  },
  {
   "cell_type": "markdown",
   "id": "a58ac22f",
   "metadata": {},
   "source": [
    "Using the date column, let's create a new column that says whether the day is a weekday or a weekend. "
   ]
  },
  {
   "cell_type": "code",
   "execution_count": 30,
   "id": "8156d558",
   "metadata": {},
   "outputs": [
    {
     "data": {
      "text/html": [
       "<div>\n",
       "<style scoped>\n",
       "    .dataframe tbody tr th:only-of-type {\n",
       "        vertical-align: middle;\n",
       "    }\n",
       "\n",
       "    .dataframe tbody tr th {\n",
       "        vertical-align: top;\n",
       "    }\n",
       "\n",
       "    .dataframe thead th {\n",
       "        text-align: right;\n",
       "    }\n",
       "</style>\n",
       "<table border=\"1\" class=\"dataframe\">\n",
       "  <thead>\n",
       "    <tr style=\"text-align: right;\">\n",
       "      <th></th>\n",
       "      <th>partner_id</th>\n",
       "      <th>customer_id</th>\n",
       "      <th>ord_type_code</th>\n",
       "      <th>service</th>\n",
       "      <th>order_id</th>\n",
       "      <th>order_date</th>\n",
       "      <th>first_purchase</th>\n",
       "      <th>number_of_purchases</th>\n",
       "      <th>ord_channel_type_code</th>\n",
       "      <th>ord_payment_status_code</th>\n",
       "      <th>...</th>\n",
       "      <th>pymt_order_upselling</th>\n",
       "      <th>pymt_subscription</th>\n",
       "      <th>pymt_subscription_excess</th>\n",
       "      <th>refund_order</th>\n",
       "      <th>refund_subscription</th>\n",
       "      <th>refund_subscription_excess</th>\n",
       "      <th>couponUsed</th>\n",
       "      <th>service_cat</th>\n",
       "      <th>dayIndex</th>\n",
       "      <th>isWeekday</th>\n",
       "    </tr>\n",
       "  </thead>\n",
       "  <tbody>\n",
       "    <tr>\n",
       "      <th>59625</th>\n",
       "      <td>74617</td>\n",
       "      <td>75068583</td>\n",
       "      <td>B2C</td>\n",
       "      <td>orders</td>\n",
       "      <td>73561191</td>\n",
       "      <td>2019-02-13</td>\n",
       "      <td>True</td>\n",
       "      <td>1</td>\n",
       "      <td>OFFLINE</td>\n",
       "      <td>PAID</td>\n",
       "      <td>...</td>\n",
       "      <td>0</td>\n",
       "      <td>0.0</td>\n",
       "      <td>0.0</td>\n",
       "      <td>0.0</td>\n",
       "      <td>0.0</td>\n",
       "      <td>0.0</td>\n",
       "      <td>0</td>\n",
       "      <td>0.0</td>\n",
       "      <td>2</td>\n",
       "      <td>1</td>\n",
       "    </tr>\n",
       "    <tr>\n",
       "      <th>83232</th>\n",
       "      <td>74617</td>\n",
       "      <td>75217439</td>\n",
       "      <td>B2C</td>\n",
       "      <td>orders</td>\n",
       "      <td>73867112</td>\n",
       "      <td>2019-02-13</td>\n",
       "      <td>True</td>\n",
       "      <td>1</td>\n",
       "      <td>ONLINE</td>\n",
       "      <td>PAID</td>\n",
       "      <td>...</td>\n",
       "      <td>0</td>\n",
       "      <td>0.0</td>\n",
       "      <td>0.0</td>\n",
       "      <td>0.0</td>\n",
       "      <td>0.0</td>\n",
       "      <td>0.0</td>\n",
       "      <td>1</td>\n",
       "      <td>0.0</td>\n",
       "      <td>2</td>\n",
       "      <td>1</td>\n",
       "    </tr>\n",
       "    <tr>\n",
       "      <th>134457</th>\n",
       "      <td>74617</td>\n",
       "      <td>75538555</td>\n",
       "      <td>B2C</td>\n",
       "      <td>orders</td>\n",
       "      <td>74067023</td>\n",
       "      <td>2019-02-13</td>\n",
       "      <td>True</td>\n",
       "      <td>1</td>\n",
       "      <td>ONLINE</td>\n",
       "      <td>PAID</td>\n",
       "      <td>...</td>\n",
       "      <td>0</td>\n",
       "      <td>0.0</td>\n",
       "      <td>0.0</td>\n",
       "      <td>0.0</td>\n",
       "      <td>0.0</td>\n",
       "      <td>0.0</td>\n",
       "      <td>0</td>\n",
       "      <td>0.0</td>\n",
       "      <td>2</td>\n",
       "      <td>1</td>\n",
       "    </tr>\n",
       "    <tr>\n",
       "      <th>144248</th>\n",
       "      <td>74617</td>\n",
       "      <td>75600608</td>\n",
       "      <td>B2C</td>\n",
       "      <td>orders</td>\n",
       "      <td>74071974</td>\n",
       "      <td>2019-02-13</td>\n",
       "      <td>True</td>\n",
       "      <td>1</td>\n",
       "      <td>ONLINE</td>\n",
       "      <td>PAID</td>\n",
       "      <td>...</td>\n",
       "      <td>0</td>\n",
       "      <td>0.0</td>\n",
       "      <td>0.0</td>\n",
       "      <td>0.0</td>\n",
       "      <td>0.0</td>\n",
       "      <td>0.0</td>\n",
       "      <td>1</td>\n",
       "      <td>0.0</td>\n",
       "      <td>2</td>\n",
       "      <td>1</td>\n",
       "    </tr>\n",
       "    <tr>\n",
       "      <th>51598</th>\n",
       "      <td>74617</td>\n",
       "      <td>75016070</td>\n",
       "      <td>B2C</td>\n",
       "      <td>orders</td>\n",
       "      <td>74007901</td>\n",
       "      <td>2019-02-15</td>\n",
       "      <td>True</td>\n",
       "      <td>1</td>\n",
       "      <td>ONLINE</td>\n",
       "      <td>PAID</td>\n",
       "      <td>...</td>\n",
       "      <td>0</td>\n",
       "      <td>0.0</td>\n",
       "      <td>0.0</td>\n",
       "      <td>0.0</td>\n",
       "      <td>0.0</td>\n",
       "      <td>0.0</td>\n",
       "      <td>0</td>\n",
       "      <td>0.0</td>\n",
       "      <td>4</td>\n",
       "      <td>1</td>\n",
       "    </tr>\n",
       "  </tbody>\n",
       "</table>\n",
       "<p>5 rows × 23 columns</p>\n",
       "</div>"
      ],
      "text/plain": [
       "        partner_id  customer_id ord_type_code service  order_id order_date  \\\n",
       "59625        74617     75068583           B2C  orders  73561191 2019-02-13   \n",
       "83232        74617     75217439           B2C  orders  73867112 2019-02-13   \n",
       "134457       74617     75538555           B2C  orders  74067023 2019-02-13   \n",
       "144248       74617     75600608           B2C  orders  74071974 2019-02-13   \n",
       "51598        74617     75016070           B2C  orders  74007901 2019-02-15   \n",
       "\n",
       "        first_purchase  number_of_purchases ord_channel_type_code  \\\n",
       "59625             True                    1               OFFLINE   \n",
       "83232             True                    1                ONLINE   \n",
       "134457            True                    1                ONLINE   \n",
       "144248            True                    1                ONLINE   \n",
       "51598             True                    1                ONLINE   \n",
       "\n",
       "       ord_payment_status_code  ...  pymt_order_upselling  pymt_subscription  \\\n",
       "59625                     PAID  ...                     0                0.0   \n",
       "83232                     PAID  ...                     0                0.0   \n",
       "134457                    PAID  ...                     0                0.0   \n",
       "144248                    PAID  ...                     0                0.0   \n",
       "51598                     PAID  ...                     0                0.0   \n",
       "\n",
       "        pymt_subscription_excess  refund_order  refund_subscription  \\\n",
       "59625                        0.0           0.0                  0.0   \n",
       "83232                        0.0           0.0                  0.0   \n",
       "134457                       0.0           0.0                  0.0   \n",
       "144248                       0.0           0.0                  0.0   \n",
       "51598                        0.0           0.0                  0.0   \n",
       "\n",
       "        refund_subscription_excess  couponUsed  service_cat  dayIndex  \\\n",
       "59625                          0.0           0          0.0         2   \n",
       "83232                          0.0           1          0.0         2   \n",
       "134457                         0.0           0          0.0         2   \n",
       "144248                         0.0           1          0.0         2   \n",
       "51598                          0.0           0          0.0         4   \n",
       "\n",
       "        isWeekday  \n",
       "59625           1  \n",
       "83232           1  \n",
       "134457          1  \n",
       "144248          1  \n",
       "51598           1  \n",
       "\n",
       "[5 rows x 23 columns]"
      ]
     },
     "execution_count": 30,
     "metadata": {},
     "output_type": "execute_result"
    }
   ],
   "source": [
    "# Create column composing of day index for the day of week (0 - 6)\n",
    "df['dayIndex'] = df['order_date'].dt.day_of_week\n",
    "# Create dictionary of values representing weekend / not weekend for each day of the week\n",
    "day_dict = {\n",
    "    0:1, 1:1, 2:1, 3:1, 4:1, 5:0, 6:0\n",
    "            }\n",
    "df['isWeekday'] = df['dayIndex'].map(day_dict).fillna('Other')\n",
    "df.head()"
   ]
  },
  {
   "cell_type": "markdown",
   "id": "3d886142",
   "metadata": {},
   "source": [
    "The following column is 'first_purchase' represented by a True or False. Are these booleans?"
   ]
  },
  {
   "cell_type": "code",
   "execution_count": 31,
   "id": "65d7fcba",
   "metadata": {},
   "outputs": [
    {
     "name": "stdout",
     "output_type": "stream",
     "text": [
      "bool\n"
     ]
    }
   ],
   "source": [
    "print(df.first_purchase.dtypes)"
   ]
  },
  {
   "cell_type": "markdown",
   "id": "684e61b0",
   "metadata": {},
   "source": [
    "Nothing needs to be done with this column, booleans are perfect"
   ]
  },
  {
   "cell_type": "markdown",
   "id": "4954a9db",
   "metadata": {},
   "source": [
    "How about the following column, 'number_of_purchases'?"
   ]
  },
  {
   "cell_type": "code",
   "execution_count": 32,
   "id": "bc618a8f",
   "metadata": {},
   "outputs": [
    {
     "name": "stdout",
     "output_type": "stream",
     "text": [
      "int64\n"
     ]
    }
   ],
   "source": [
    "print(df.number_of_purchases.dtypes)"
   ]
  },
  {
   "cell_type": "markdown",
   "id": "01cec59d",
   "metadata": {},
   "source": [
    "The ord_channel_type_code column holds information about how the order was placed. This can be onehotencoded using the same procedure as we did with the service category. "
   ]
  },
  {
   "cell_type": "code",
   "execution_count": 33,
   "id": "4df7afcf",
   "metadata": {},
   "outputs": [
    {
     "data": {
      "text/plain": [
       "array(['OFFLINE', 'ONLINE'], dtype=object)"
      ]
     },
     "execution_count": 33,
     "metadata": {},
     "output_type": "execute_result"
    }
   ],
   "source": [
    "df.ord_channel_type_code.unique()"
   ]
  },
  {
   "cell_type": "code",
   "execution_count": 34,
   "id": "a7fb87a0",
   "metadata": {},
   "outputs": [
    {
     "data": {
      "text/html": [
       "<div>\n",
       "<style scoped>\n",
       "    .dataframe tbody tr th:only-of-type {\n",
       "        vertical-align: middle;\n",
       "    }\n",
       "\n",
       "    .dataframe tbody tr th {\n",
       "        vertical-align: top;\n",
       "    }\n",
       "\n",
       "    .dataframe thead th {\n",
       "        text-align: right;\n",
       "    }\n",
       "</style>\n",
       "<table border=\"1\" class=\"dataframe\">\n",
       "  <thead>\n",
       "    <tr style=\"text-align: right;\">\n",
       "      <th></th>\n",
       "      <th>partner_id</th>\n",
       "      <th>customer_id</th>\n",
       "      <th>ord_type_code</th>\n",
       "      <th>service</th>\n",
       "      <th>order_id</th>\n",
       "      <th>order_date</th>\n",
       "      <th>first_purchase</th>\n",
       "      <th>number_of_purchases</th>\n",
       "      <th>ord_channel_type_code</th>\n",
       "      <th>ord_payment_status_code</th>\n",
       "      <th>...</th>\n",
       "      <th>pymt_order_upselling</th>\n",
       "      <th>pymt_subscription</th>\n",
       "      <th>pymt_subscription_excess</th>\n",
       "      <th>refund_order</th>\n",
       "      <th>refund_subscription</th>\n",
       "      <th>refund_subscription_excess</th>\n",
       "      <th>couponUsed</th>\n",
       "      <th>service_cat</th>\n",
       "      <th>dayIndex</th>\n",
       "      <th>isWeekday</th>\n",
       "    </tr>\n",
       "  </thead>\n",
       "  <tbody>\n",
       "    <tr>\n",
       "      <th>59625</th>\n",
       "      <td>74617</td>\n",
       "      <td>75068583</td>\n",
       "      <td>B2C</td>\n",
       "      <td>orders</td>\n",
       "      <td>73561191</td>\n",
       "      <td>2019-02-13</td>\n",
       "      <td>True</td>\n",
       "      <td>1</td>\n",
       "      <td>OFFLINE</td>\n",
       "      <td>PAID</td>\n",
       "      <td>...</td>\n",
       "      <td>0</td>\n",
       "      <td>0.0</td>\n",
       "      <td>0.0</td>\n",
       "      <td>0.0</td>\n",
       "      <td>0.0</td>\n",
       "      <td>0.0</td>\n",
       "      <td>0</td>\n",
       "      <td>0.0</td>\n",
       "      <td>2</td>\n",
       "      <td>1</td>\n",
       "    </tr>\n",
       "    <tr>\n",
       "      <th>83232</th>\n",
       "      <td>74617</td>\n",
       "      <td>75217439</td>\n",
       "      <td>B2C</td>\n",
       "      <td>orders</td>\n",
       "      <td>73867112</td>\n",
       "      <td>2019-02-13</td>\n",
       "      <td>True</td>\n",
       "      <td>1</td>\n",
       "      <td>ONLINE</td>\n",
       "      <td>PAID</td>\n",
       "      <td>...</td>\n",
       "      <td>0</td>\n",
       "      <td>0.0</td>\n",
       "      <td>0.0</td>\n",
       "      <td>0.0</td>\n",
       "      <td>0.0</td>\n",
       "      <td>0.0</td>\n",
       "      <td>1</td>\n",
       "      <td>0.0</td>\n",
       "      <td>2</td>\n",
       "      <td>1</td>\n",
       "    </tr>\n",
       "    <tr>\n",
       "      <th>134457</th>\n",
       "      <td>74617</td>\n",
       "      <td>75538555</td>\n",
       "      <td>B2C</td>\n",
       "      <td>orders</td>\n",
       "      <td>74067023</td>\n",
       "      <td>2019-02-13</td>\n",
       "      <td>True</td>\n",
       "      <td>1</td>\n",
       "      <td>ONLINE</td>\n",
       "      <td>PAID</td>\n",
       "      <td>...</td>\n",
       "      <td>0</td>\n",
       "      <td>0.0</td>\n",
       "      <td>0.0</td>\n",
       "      <td>0.0</td>\n",
       "      <td>0.0</td>\n",
       "      <td>0.0</td>\n",
       "      <td>0</td>\n",
       "      <td>0.0</td>\n",
       "      <td>2</td>\n",
       "      <td>1</td>\n",
       "    </tr>\n",
       "    <tr>\n",
       "      <th>144248</th>\n",
       "      <td>74617</td>\n",
       "      <td>75600608</td>\n",
       "      <td>B2C</td>\n",
       "      <td>orders</td>\n",
       "      <td>74071974</td>\n",
       "      <td>2019-02-13</td>\n",
       "      <td>True</td>\n",
       "      <td>1</td>\n",
       "      <td>ONLINE</td>\n",
       "      <td>PAID</td>\n",
       "      <td>...</td>\n",
       "      <td>0</td>\n",
       "      <td>0.0</td>\n",
       "      <td>0.0</td>\n",
       "      <td>0.0</td>\n",
       "      <td>0.0</td>\n",
       "      <td>0.0</td>\n",
       "      <td>1</td>\n",
       "      <td>0.0</td>\n",
       "      <td>2</td>\n",
       "      <td>1</td>\n",
       "    </tr>\n",
       "    <tr>\n",
       "      <th>51598</th>\n",
       "      <td>74617</td>\n",
       "      <td>75016070</td>\n",
       "      <td>B2C</td>\n",
       "      <td>orders</td>\n",
       "      <td>74007901</td>\n",
       "      <td>2019-02-15</td>\n",
       "      <td>True</td>\n",
       "      <td>1</td>\n",
       "      <td>ONLINE</td>\n",
       "      <td>PAID</td>\n",
       "      <td>...</td>\n",
       "      <td>0</td>\n",
       "      <td>0.0</td>\n",
       "      <td>0.0</td>\n",
       "      <td>0.0</td>\n",
       "      <td>0.0</td>\n",
       "      <td>0.0</td>\n",
       "      <td>0</td>\n",
       "      <td>0.0</td>\n",
       "      <td>4</td>\n",
       "      <td>1</td>\n",
       "    </tr>\n",
       "  </tbody>\n",
       "</table>\n",
       "<p>5 rows × 23 columns</p>\n",
       "</div>"
      ],
      "text/plain": [
       "        partner_id  customer_id ord_type_code service  order_id order_date  \\\n",
       "59625        74617     75068583           B2C  orders  73561191 2019-02-13   \n",
       "83232        74617     75217439           B2C  orders  73867112 2019-02-13   \n",
       "134457       74617     75538555           B2C  orders  74067023 2019-02-13   \n",
       "144248       74617     75600608           B2C  orders  74071974 2019-02-13   \n",
       "51598        74617     75016070           B2C  orders  74007901 2019-02-15   \n",
       "\n",
       "        first_purchase  number_of_purchases ord_channel_type_code  \\\n",
       "59625             True                    1               OFFLINE   \n",
       "83232             True                    1                ONLINE   \n",
       "134457            True                    1                ONLINE   \n",
       "144248            True                    1                ONLINE   \n",
       "51598             True                    1                ONLINE   \n",
       "\n",
       "       ord_payment_status_code  ...  pymt_order_upselling  pymt_subscription  \\\n",
       "59625                     PAID  ...                     0                0.0   \n",
       "83232                     PAID  ...                     0                0.0   \n",
       "134457                    PAID  ...                     0                0.0   \n",
       "144248                    PAID  ...                     0                0.0   \n",
       "51598                     PAID  ...                     0                0.0   \n",
       "\n",
       "        pymt_subscription_excess  refund_order  refund_subscription  \\\n",
       "59625                        0.0           0.0                  0.0   \n",
       "83232                        0.0           0.0                  0.0   \n",
       "134457                       0.0           0.0                  0.0   \n",
       "144248                       0.0           0.0                  0.0   \n",
       "51598                        0.0           0.0                  0.0   \n",
       "\n",
       "        refund_subscription_excess  couponUsed  service_cat  dayIndex  \\\n",
       "59625                          0.0           0          0.0         2   \n",
       "83232                          0.0           1          0.0         2   \n",
       "134457                         0.0           0          0.0         2   \n",
       "144248                         0.0           1          0.0         2   \n",
       "51598                          0.0           0          0.0         4   \n",
       "\n",
       "        isWeekday  \n",
       "59625           1  \n",
       "83232           1  \n",
       "134457          1  \n",
       "144248          1  \n",
       "51598           1  \n",
       "\n",
       "[5 rows x 23 columns]"
      ]
     },
     "execution_count": 34,
     "metadata": {},
     "output_type": "execute_result"
    }
   ],
   "source": [
    "df.head()"
   ]
  },
  {
   "cell_type": "code",
   "execution_count": 35,
   "id": "ed530ab6",
   "metadata": {},
   "outputs": [
    {
     "data": {
      "text/plain": [
       "Index(['partner_id', 'customer_id', 'ord_type_code', 'service', 'order_id',\n",
       "       'order_date', 'first_purchase', 'number_of_purchases',\n",
       "       'ord_channel_type_code', 'ord_payment_status_code', 'sales',\n",
       "       'excess_subscription', 'pymt_order', 'pymt_order_upselling',\n",
       "       'pymt_subscription', 'pymt_subscription_excess', 'refund_order',\n",
       "       'refund_subscription', 'refund_subscription_excess', 'couponUsed',\n",
       "       'service_cat', 'dayIndex', 'isWeekday'],\n",
       "      dtype='object')"
      ]
     },
     "execution_count": 35,
     "metadata": {},
     "output_type": "execute_result"
    }
   ],
   "source": [
    "df.columns"
   ]
  },
  {
   "cell_type": "markdown",
   "id": "c09c007c",
   "metadata": {},
   "source": [
    "The next column is 'ord_payment_status_code. Let's look at the unique values and how manhy records of each are included. "
   ]
  },
  {
   "cell_type": "code",
   "execution_count": 36,
   "id": "b9292358",
   "metadata": {},
   "outputs": [
    {
     "data": {
      "text/plain": [
       "ord_payment_status_code\n",
       "PAID              151411\n",
       "UNPAID             10691\n",
       "UNPAID_PARTIAL       169\n",
       "dtype: int64"
      ]
     },
     "execution_count": 36,
     "metadata": {},
     "output_type": "execute_result"
    }
   ],
   "source": [
    "# groupby payment status and count occurences of each\n",
    "df.groupby(['ord_payment_status_code']).size()"
   ]
  },
  {
   "cell_type": "code",
   "execution_count": 37,
   "id": "f8435ce3",
   "metadata": {},
   "outputs": [
    {
     "data": {
      "text/plain": [
       "12914"
      ]
     },
     "execution_count": 37,
     "metadata": {},
     "output_type": "execute_result"
    }
   ],
   "source": [
    "# is the number of unpaid orders the same as the subscription orders? \n",
    "df['service'].value_counts()['subscription']"
   ]
  },
  {
   "cell_type": "markdown",
   "id": "97aa1c44",
   "metadata": {},
   "source": [
    "There are 3 values and they don't obviously seem to be directly related to service type. Let's encode these are categories. "
   ]
  },
  {
   "cell_type": "markdown",
   "id": "8b0ad333",
   "metadata": {},
   "source": [
    "We already handled the coupon code, so let's look at 'sales', perhaps our first continuous column. "
   ]
  },
  {
   "cell_type": "code",
   "execution_count": 38,
   "id": "4c657d9a",
   "metadata": {},
   "outputs": [
    {
     "name": "stdout",
     "output_type": "stream",
     "text": [
      "count    162271.00000\n",
      "mean         65.42702\n",
      "std          87.69646\n",
      "min        -139.00000\n",
      "25%           0.00000\n",
      "50%          40.00000\n",
      "75%          86.00000\n",
      "max        5089.40000\n",
      "Name: sales, dtype: float64\n"
     ]
    }
   ],
   "source": [
    "# Describe the data\n",
    "print(df.sales.describe())"
   ]
  },
  {
   "cell_type": "code",
   "execution_count": 39,
   "id": "b73c03c2",
   "metadata": {},
   "outputs": [
    {
     "data": {
      "image/png": "[encoded data removed]",
      "text/plain": [
       "<Figure size 432x288 with 1 Axes>"
      ]
     },
     "metadata": {
      "needs_background": "light"
     },
     "output_type": "display_data"
    },
    {
     "name": "stdout",
     "output_type": "stream",
     "text": [
      "0.9995316476758016\n"
     ]
    },
    {
     "data": {
      "text/plain": [
       "(None, None)"
      ]
     },
     "execution_count": 39,
     "metadata": {},
     "output_type": "execute_result"
    }
   ],
   "source": [
    "# display a quick histogram of the data with sales below $1000, which is most of the data\n",
    "df[df.sales<1000].sales.hist(bins=50)\n",
    "plt.show(), print(df[df.sales<1000].size/df.size)"
   ]
  },
  {
   "cell_type": "code",
   "execution_count": 40,
   "id": "9530381f",
   "metadata": {},
   "outputs": [
    {
     "data": {
      "image/png": "[encoded data removed]",
      "text/plain": [
       "<Figure size 432x288 with 1 Axes>"
      ]
     },
     "metadata": {
      "needs_background": "light"
     },
     "output_type": "display_data"
    },
    {
     "name": "stdout",
     "output_type": "stream",
     "text": [
      "0.00044370220187217677\n"
     ]
    },
    {
     "data": {
      "text/plain": [
       "(None, None)"
      ]
     },
     "execution_count": 40,
     "metadata": {},
     "output_type": "execute_result"
    }
   ],
   "source": [
    "# Display data of sales that are over $1000\n",
    "df[df.sales>1000].sales.hist(bins=50)\n",
    "plt.show(), print(df[df.sales>1000].size/df.size)"
   ]
  },
  {
   "cell_type": "markdown",
   "id": "75fc829e",
   "metadata": {},
   "source": [
    "We see that 99.95% of the data is of records consisting of sales less than 1000. \n",
    "At this point I am going to leave this data as continuous, but perhaps drop all data consisting of sales over 1000. Let's investigate the other continuous columns:"
   ]
  },
  {
   "cell_type": "code",
   "execution_count": 41,
   "id": "d17f341f",
   "metadata": {},
   "outputs": [
    {
     "name": "stdout",
     "output_type": "stream",
     "text": [
      "count    162271.000000\n",
      "mean          0.591027\n",
      "std          11.211613\n",
      "min           0.000000\n",
      "25%           0.000000\n",
      "50%           0.000000\n",
      "75%           0.000000\n",
      "max        1840.000000\n",
      "Name: excess_subscription, dtype: float64\n"
     ]
    }
   ],
   "source": [
    "# Describe excess_subscription columns\n",
    "print(df.excess_subscription.describe())"
   ]
  },
  {
   "cell_type": "code",
   "execution_count": 42,
   "id": "1677f612",
   "metadata": {},
   "outputs": [
    {
     "name": "stdout",
     "output_type": "stream",
     "text": [
      "1234    77.72001620745543\n"
     ]
    }
   ],
   "source": [
    "# How many of these records are non-zero\n",
    "print(len(df[df.excess_subscription != 0]),\"  \", df[df.excess_subscription != 0].excess_subscription.mean())"
   ]
  },
  {
   "cell_type": "code",
   "execution_count": 43,
   "id": "63d37936",
   "metadata": {},
   "outputs": [
    {
     "data": {
      "image/png": "[encoded data removed]",
      "text/plain": [
       "<Figure size 432x288 with 1 Axes>"
      ]
     },
     "metadata": {
      "needs_background": "light"
     },
     "output_type": "display_data"
    }
   ],
   "source": [
    "# Display quick hist of data\n",
    "df[df.excess_subscription>0].excess_subscription.hist(bins=50)\n",
    "plt.show()"
   ]
  },
  {
   "cell_type": "markdown",
   "id": "533c2bc0",
   "metadata": {},
   "source": [
    "The excess_subscription column contains mostly 0's. There are 1234 non-zero values in the column. The mean of the non-zero values is approximately 77.72."
   ]
  },
  {
   "cell_type": "code",
   "execution_count": 44,
   "id": "e178e1ce",
   "metadata": {},
   "outputs": [
    {
     "name": "stdout",
     "output_type": "stream",
     "text": [
      "count    162271.000000\n",
      "mean         45.609909\n",
      "std          74.198247\n",
      "min           0.000000\n",
      "25%           0.000000\n",
      "50%          28.000000\n",
      "75%          62.000000\n",
      "max        5089.400000\n",
      "Name: pymt_order, dtype: float64\n"
     ]
    }
   ],
   "source": [
    "# Display pymt_order \n",
    "print(df.pymt_order.describe())"
   ]
  },
  {
   "cell_type": "markdown",
   "id": "4981a9d2",
   "metadata": {},
   "source": [
    "It looks like there are values that are 0, and perhaps outliers at 5000+. Let's count the number of 0 values and try to figure out why there are 0 values, and ascertain whether that 5089 is just an outlier or an error. "
   ]
  },
  {
   "cell_type": "code",
   "execution_count": 45,
   "id": "31dcf989",
   "metadata": {},
   "outputs": [
    {
     "name": "stdout",
     "output_type": "stream",
     "text": [
      "63091\n"
     ]
    }
   ],
   "source": [
    "# print number of records with pymt_order = 0\n",
    "print(len(df[df.pymt_order == 0]))"
   ]
  },
  {
   "cell_type": "code",
   "execution_count": 46,
   "id": "2cabec6a",
   "metadata": {},
   "outputs": [
    {
     "name": "stdout",
     "output_type": "stream",
     "text": [
      "1 , 62\n"
     ]
    }
   ],
   "source": [
    "# print number of records with pymt_order > 1000\n",
    "print(len(df[df.pymt_order > 5000]),\",\", len(df[df.pymt_order > 1000]))"
   ]
  },
  {
   "cell_type": "markdown",
   "id": "9b53483c",
   "metadata": {},
   "source": [
    "There is only one record about 5000, and only 62 records with values over 1000. These records may be aggregated sales - maybe old sales aggregated and added to a new system? What is the date on the values over 1000?"
   ]
  },
  {
   "cell_type": "code",
   "execution_count": 47,
   "id": "8c3f0e32",
   "metadata": {},
   "outputs": [],
   "source": [
    "# delete record with pymt over 5000\n",
    "df = df[df.pymt_order < 5000]"
   ]
  },
  {
   "cell_type": "code",
   "execution_count": 48,
   "id": "1f9d74fb",
   "metadata": {},
   "outputs": [
    {
     "data": {
      "image/png": "[encoded data removed]",
      "text/plain": [
       "<Figure size 432x288 with 1 Axes>"
      ]
     },
     "metadata": {
      "needs_background": "light"
     },
     "output_type": "display_data"
    }
   ],
   "source": [
    "# Display quick scatter of data from sales over 1000\n",
    "po_plot = df[df.pymt_order>1000]\n",
    "plt.scatter(data=po_plot, x='order_date', y='pymt_order')\n",
    "plt.xticks(rotation=30, ha='right')\n",
    "plt.show()"
   ]
  },
  {
   "cell_type": "markdown",
   "id": "2ae1beef",
   "metadata": {},
   "source": [
    "It doesn't look like these large values for pymt_order are old, or at any specific point in time at all. Let's look at a quick histogram of pymt_order that is non-zero and less than 400. "
   ]
  },
  {
   "cell_type": "code",
   "execution_count": 49,
   "id": "2b9f8760",
   "metadata": {},
   "outputs": [
    {
     "data": {
      "image/png": "[encoded data removed]",
      "text/plain": [
       "<Figure size 432x288 with 1 Axes>"
      ]
     },
     "metadata": {
      "needs_background": "light"
     },
     "output_type": "display_data"
    }
   ],
   "source": [
    "# Display quick hist of data of pymt_order greater than 0 and less than 400\n",
    "df[(df.pymt_order<400) & (df.pymt_order>0)].pymt_order.hist(bins=50)\n",
    "plt.show()"
   ]
  },
  {
   "cell_type": "markdown",
   "id": "b113bf4e",
   "metadata": {},
   "source": [
    "Let's look at the column, order_upselling."
   ]
  },
  {
   "cell_type": "code",
   "execution_count": 50,
   "id": "bf3ef919",
   "metadata": {},
   "outputs": [
    {
     "name": "stdout",
     "output_type": "stream",
     "text": [
      "count    162270.0\n",
      "mean          0.0\n",
      "std           0.0\n",
      "min           0.0\n",
      "25%           0.0\n",
      "50%           0.0\n",
      "75%           0.0\n",
      "max           0.0\n",
      "Name: pymt_order_upselling, dtype: float64\n"
     ]
    }
   ],
   "source": [
    "print(df.pymt_order_upselling.describe())"
   ]
  },
  {
   "cell_type": "markdown",
   "id": "c3704c59",
   "metadata": {},
   "source": [
    "This column is all zeros so it should be dropped. It has no relationship with the outcome. \n",
    "\n",
    "The next three columns have to do with refunds. One represents refunds on the service category 'order' and the other, refunds on the service category 'subscription'. The final column is refund_subscription_excess, which has happened only 18 times. "
   ]
  },
  {
   "cell_type": "code",
   "execution_count": 51,
   "id": "79219922",
   "metadata": {},
   "outputs": [],
   "source": [
    "df.drop(columns=['pymt_order_upselling'], axis=1, inplace=True)"
   ]
  },
  {
   "cell_type": "code",
   "execution_count": 52,
   "id": "229705c2",
   "metadata": {},
   "outputs": [
    {
     "name": "stdout",
     "output_type": "stream",
     "text": [
      "count    162270.000000\n",
      "mean         -0.356910\n",
      "std           9.047509\n",
      "min       -1080.000000\n",
      "25%           0.000000\n",
      "50%           0.000000\n",
      "75%           0.000000\n",
      "max           0.000000\n",
      "Name: refund_order, dtype: float64\n"
     ]
    }
   ],
   "source": [
    "# describe data in refund_order\n",
    "print(df.refund_order.describe())"
   ]
  },
  {
   "cell_type": "code",
   "execution_count": 53,
   "id": "b042bd7f",
   "metadata": {},
   "outputs": [
    {
     "name": "stdout",
     "output_type": "stream",
     "text": [
      "709\n"
     ]
    }
   ],
   "source": [
    "print(len(df[df.refund_order<0]))"
   ]
  },
  {
   "cell_type": "code",
   "execution_count": 54,
   "id": "f486d0ab",
   "metadata": {},
   "outputs": [
    {
     "name": "stdout",
     "output_type": "stream",
     "text": [
      "count    162270.000000\n",
      "mean         -0.665659\n",
      "std          11.892790\n",
      "min        -529.000000\n",
      "25%           0.000000\n",
      "50%           0.000000\n",
      "75%           0.000000\n",
      "max           0.000000\n",
      "Name: refund_subscription, dtype: float64\n"
     ]
    }
   ],
   "source": [
    "# describe data in refund_subscription\n",
    "print(df.refund_subscription.describe())"
   ]
  },
  {
   "cell_type": "code",
   "execution_count": 55,
   "id": "3b9daf16",
   "metadata": {},
   "outputs": [
    {
     "name": "stdout",
     "output_type": "stream",
     "text": [
      "647\n"
     ]
    }
   ],
   "source": [
    "print(len(df[df.refund_subscription<0]))"
   ]
  },
  {
   "cell_type": "code",
   "execution_count": 56,
   "id": "e5c56f13",
   "metadata": {},
   "outputs": [
    {
     "name": "stdout",
     "output_type": "stream",
     "text": [
      "count    162270.000000\n",
      "mean         -0.030671\n",
      "std           4.533106\n",
      "min       -1450.000000\n",
      "25%           0.000000\n",
      "50%           0.000000\n",
      "75%           0.000000\n",
      "max           0.000000\n",
      "Name: refund_subscription_excess, dtype: float64\n"
     ]
    }
   ],
   "source": [
    "print(df.refund_subscription_excess.describe())"
   ]
  },
  {
   "cell_type": "code",
   "execution_count": 57,
   "id": "3ff805cf",
   "metadata": {},
   "outputs": [
    {
     "name": "stdout",
     "output_type": "stream",
     "text": [
      "18\n"
     ]
    }
   ],
   "source": [
    "print(len(df[df.refund_subscription_excess<0]))"
   ]
  },
  {
   "cell_type": "code",
   "execution_count": 58,
   "id": "f66b861e",
   "metadata": {},
   "outputs": [
    {
     "data": {
      "text/plain": [
       "Index(['partner_id', 'customer_id', 'ord_type_code', 'service', 'order_id',\n",
       "       'order_date', 'first_purchase', 'number_of_purchases',\n",
       "       'ord_channel_type_code', 'ord_payment_status_code', 'sales',\n",
       "       'excess_subscription', 'pymt_order', 'pymt_subscription',\n",
       "       'pymt_subscription_excess', 'refund_order', 'refund_subscription',\n",
       "       'refund_subscription_excess', 'couponUsed', 'service_cat', 'dayIndex',\n",
       "       'isWeekday'],\n",
       "      dtype='object')"
      ]
     },
     "execution_count": 58,
     "metadata": {},
     "output_type": "execute_result"
    }
   ],
   "source": [
    "df.columns"
   ]
  },
  {
   "cell_type": "markdown",
   "id": "823853ba",
   "metadata": {},
   "source": [
    "Let's make a new feature, using feature crossing and call this feature serviceChannel. \n",
    "One interesting question is, how many customers fell into the following categories?\n",
    "  1. Online and Order\n",
    "  2. Online and Subscription\n",
    "  3. Offline and Order\n",
    "  4. Offline and Subscription\n",
    "\n",
    "Let's create a new feature with categorical 1-4 values, then onehotencode to prepare it for machine learning. "
   ]
  },
  {
   "cell_type": "code",
   "execution_count": 59,
   "id": "b76c3d74",
   "metadata": {},
   "outputs": [
    {
     "data": {
      "text/plain": [
       "(array(['orders', 'subscription'], dtype=object),\n",
       " array(['OFFLINE', 'ONLINE'], dtype=object))"
      ]
     },
     "execution_count": 59,
     "metadata": {},
     "output_type": "execute_result"
    }
   ],
   "source": [
    "# review the contents of the appropriate columns\n",
    "df.service.unique(), df.ord_channel_type_code.unique()"
   ]
  },
  {
   "cell_type": "code",
   "execution_count": 60,
   "id": "311d77c2",
   "metadata": {},
   "outputs": [],
   "source": [
    "# write the logic\n",
    "df.loc[(df['ord_channel_type_code'] == 'ONLINE') & (df['service'] == 'orders'), 'serviceChannel'] = 1\n",
    "df.loc[(df['ord_channel_type_code'] == 'ONLINE') & (df['service'] == 'subscription'), 'serviceChannel'] = 2\n",
    "df.loc[(df['ord_channel_type_code'] == 'OFFLINE') & (df['service'] == 'orders'), 'serviceChannel'] = 3\n",
    "df.loc[(df['ord_channel_type_code'] == 'OFFLINE') & (df['service'] == 'subscription'), 'serviceChannel'] = 4"
   ]
  },
  {
   "cell_type": "code",
   "execution_count": 61,
   "id": "70af2831",
   "metadata": {},
   "outputs": [
    {
     "name": "stdout",
     "output_type": "stream",
     "text": [
      "Counter({3: 116261, 1: 33095, 4: 6535, 2: 6379})\n"
     ]
    },
    {
     "data": {
      "image/png": "[encoded data removed]",
      "text/plain": [
       "<Figure size 432x288 with 1 Axes>"
      ]
     },
     "metadata": {
      "needs_background": "light"
     },
     "output_type": "display_data"
    }
   ],
   "source": [
    "# do a quick histogram to see where most customers fall\n",
    "df.serviceChannel = df.serviceChannel.astype('int')\n",
    "count = Counter(df.serviceChannel)\n",
    "print(count)\n",
    "plt.bar(count.keys(), count.values())\n",
    "plt.show()"
   ]
  },
  {
   "cell_type": "markdown",
   "id": "4c58b60e",
   "metadata": {},
   "source": [
    "Most customers fall into category 3, which is an offline 'order'. The second most frequent is category 1, which is an online 'order'. There is not much difference between offline and online subscriptions orders; these each make up about 4% of the total transactions.  "
   ]
  },
  {
   "cell_type": "markdown",
   "id": "765976db",
   "metadata": {},
   "source": [
    "Another question is, should we group customers who have used a coupon on their first purchase? We already have a first_purchase column, and a couponUsed column. What percentage of first time customers used a coupon?"
   ]
  },
  {
   "cell_type": "code",
   "execution_count": 62,
   "id": "b97bc230",
   "metadata": {},
   "outputs": [],
   "source": [
    "percentFirstCoupon = round(len(df[(df['couponUsed'] == 1) & (df['first_purchase'] == True)])/len(df[df['first_purchase']==True]) * 100, 2)"
   ]
  },
  {
   "cell_type": "code",
   "execution_count": 63,
   "id": "5c70e3e5",
   "metadata": {},
   "outputs": [
    {
     "name": "stdout",
     "output_type": "stream",
     "text": [
      "The percentage of first-time customers who used a coupon is 10.63\n"
     ]
    }
   ],
   "source": [
    "print(\"The percentage of first-time customers who used a coupon is\",percentFirstCoupon)"
   ]
  },
  {
   "cell_type": "code",
   "execution_count": 64,
   "id": "e625c3de",
   "metadata": {},
   "outputs": [],
   "source": [
    "percentNotFirstCoupon = round(len(df[(df['couponUsed'] == 1) & (df['first_purchase'] == False)])/len(df[df['first_purchase']==False]) * 100, 2)"
   ]
  },
  {
   "cell_type": "code",
   "execution_count": 65,
   "id": "d9afff18",
   "metadata": {},
   "outputs": [
    {
     "name": "stdout",
     "output_type": "stream",
     "text": [
      "The percentage of NOT first-time customers who used a coupon is 4.15\n"
     ]
    }
   ],
   "source": [
    "print(\"The percentage of NOT first-time customers who used a coupon is\",percentNotFirstCoupon)"
   ]
  },
  {
   "cell_type": "markdown",
   "id": "f6891b5f",
   "metadata": {},
   "source": [
    "Certainly a greater share of first-time customers (10.63%) used a coupon than regulars who were not making a first time purchase (4.15%). Does the company accept coupons online, and on subscriptions? Let's used the new column to determine. "
   ]
  },
  {
   "cell_type": "code",
   "execution_count": 66,
   "id": "eec37213",
   "metadata": {},
   "outputs": [],
   "source": [
    "# Group couponUsed=True by serviceChannel and list size of each group as a percentage of the total\n",
    "sccu = df[df['couponUsed'] == True].groupby(['serviceChannel']).size() / len(df[df['couponUsed'] == True])"
   ]
  },
  {
   "cell_type": "code",
   "execution_count": 67,
   "id": "771a0b16",
   "metadata": {},
   "outputs": [],
   "source": [
    "# Now group serviceChannels by percentage of the totalsS\n",
    "scall = df.groupby(['serviceChannel']).size() / len(df)"
   ]
  },
  {
   "cell_type": "code",
   "execution_count": 68,
   "id": "7ef9ea14",
   "metadata": {},
   "outputs": [
    {
     "name": "stdout",
     "output_type": "stream",
     "text": [
      "couponUsed      Coupon Not Used  Coupon Used\n",
      "serviceChannel                              \n",
      "1                         29481         3614\n",
      "2                          5965          414\n",
      "3                        111485         4776\n",
      "4                          6151          384\n"
     ]
    }
   ],
   "source": [
    "# Price out sizes of service type cohorts.\n",
    "cu = df.groupby(['serviceChannel', 'couponUsed']).size().unstack().fillna(0)\n",
    "cu.rename(columns={0:'Coupon Not Used', 1:'Coupon Used'}, inplace=True)\n",
    "print(cu)"
   ]
  },
  {
   "cell_type": "code",
   "execution_count": 69,
   "id": "59f77594",
   "metadata": {},
   "outputs": [
    {
     "data": {
      "text/plain": [
       "<matplotlib.legend.Legend at 0x1ae8435a790>"
      ]
     },
     "execution_count": 69,
     "metadata": {},
     "output_type": "execute_result"
    },
    {
     "data": {
      "image/png": "[encoded data removed]",
      "text/plain": [
       "<Figure size 576x576 with 1 Axes>"
      ]
     },
     "metadata": {
      "needs_background": "light"
     },
     "output_type": "display_data"
    }
   ],
   "source": [
    "# Plot transactions by order type and service\n",
    "\n",
    "fig, ax = plt.subplots(figsize=(8,8))\n",
    "\n",
    "# Initialize the bottom at zero for the first set of bars.\n",
    "bottom = np.zeros(len(cu))\n",
    "\n",
    "# Plot each layer of the bar, adding each bar to the \"bottom\" so\n",
    "# the next bar starts higher.\n",
    "for i, col in enumerate(cu.columns):\n",
    "  ax.bar(cu.index, cu[col], bottom=bottom, label=col)\n",
    "  bottom += np.array(cu[col])\n",
    "\n",
    "ax.set_title('Coupons Used by Service Channel')\n",
    "ax.legend()\n"
   ]
  },
  {
   "cell_type": "code",
   "execution_count": 70,
   "id": "c949171f",
   "metadata": {},
   "outputs": [],
   "source": [
    "# Change categorical columns to datatype category as a group. \n",
    "\n",
    "categories = ['couponUsed', 'service_cat', 'dayIndex', 'isWeekday', 'serviceChannel']\n",
    "for cat in categories:\n",
    "    df[cat] = df[cat].astype('category')\n"
   ]
  },
  {
   "cell_type": "code",
   "execution_count": 71,
   "id": "f9433485",
   "metadata": {},
   "outputs": [
    {
     "data": {
      "text/plain": [
       "Timestamp('2019-02-13 00:00:00')"
      ]
     },
     "execution_count": 71,
     "metadata": {},
     "output_type": "execute_result"
    }
   ],
   "source": [
    "df.order_date.min()"
   ]
  },
  {
   "cell_type": "code",
   "execution_count": 72,
   "id": "1f8070fd",
   "metadata": {},
   "outputs": [],
   "source": [
    "# Write the cleaned df to file. \n",
    "df.to_csv('data/cleanedkpi.csv', index=False)"
   ]
  },
  {
   "cell_type": "code",
   "execution_count": 73,
   "id": "f0153303",
   "metadata": {},
   "outputs": [
    {
     "data": {
      "text/html": [
       "<div>\n",
       "<style scoped>\n",
       "    .dataframe tbody tr th:only-of-type {\n",
       "        vertical-align: middle;\n",
       "    }\n",
       "\n",
       "    .dataframe tbody tr th {\n",
       "        vertical-align: top;\n",
       "    }\n",
       "\n",
       "    .dataframe thead th {\n",
       "        text-align: right;\n",
       "    }\n",
       "</style>\n",
       "<table border=\"1\" class=\"dataframe\">\n",
       "  <thead>\n",
       "    <tr style=\"text-align: right;\">\n",
       "      <th></th>\n",
       "      <th>partner_id</th>\n",
       "      <th>customer_id</th>\n",
       "      <th>ord_type_code</th>\n",
       "      <th>service</th>\n",
       "      <th>order_id</th>\n",
       "      <th>order_date</th>\n",
       "      <th>first_purchase</th>\n",
       "      <th>number_of_purchases</th>\n",
       "      <th>ord_channel_type_code</th>\n",
       "      <th>ord_payment_status_code</th>\n",
       "      <th>...</th>\n",
       "      <th>pymt_subscription</th>\n",
       "      <th>pymt_subscription_excess</th>\n",
       "      <th>refund_order</th>\n",
       "      <th>refund_subscription</th>\n",
       "      <th>refund_subscription_excess</th>\n",
       "      <th>couponUsed</th>\n",
       "      <th>service_cat</th>\n",
       "      <th>dayIndex</th>\n",
       "      <th>isWeekday</th>\n",
       "      <th>serviceChannel</th>\n",
       "    </tr>\n",
       "  </thead>\n",
       "  <tbody>\n",
       "    <tr>\n",
       "      <th>0</th>\n",
       "      <td>74617</td>\n",
       "      <td>75068583</td>\n",
       "      <td>B2C</td>\n",
       "      <td>orders</td>\n",
       "      <td>73561191</td>\n",
       "      <td>2019-02-13</td>\n",
       "      <td>True</td>\n",
       "      <td>1</td>\n",
       "      <td>OFFLINE</td>\n",
       "      <td>PAID</td>\n",
       "      <td>...</td>\n",
       "      <td>0.0</td>\n",
       "      <td>0.0</td>\n",
       "      <td>0.0</td>\n",
       "      <td>0.0</td>\n",
       "      <td>0.0</td>\n",
       "      <td>0</td>\n",
       "      <td>0.0</td>\n",
       "      <td>2</td>\n",
       "      <td>1</td>\n",
       "      <td>3</td>\n",
       "    </tr>\n",
       "    <tr>\n",
       "      <th>1</th>\n",
       "      <td>74617</td>\n",
       "      <td>75217439</td>\n",
       "      <td>B2C</td>\n",
       "      <td>orders</td>\n",
       "      <td>73867112</td>\n",
       "      <td>2019-02-13</td>\n",
       "      <td>True</td>\n",
       "      <td>1</td>\n",
       "      <td>ONLINE</td>\n",
       "      <td>PAID</td>\n",
       "      <td>...</td>\n",
       "      <td>0.0</td>\n",
       "      <td>0.0</td>\n",
       "      <td>0.0</td>\n",
       "      <td>0.0</td>\n",
       "      <td>0.0</td>\n",
       "      <td>1</td>\n",
       "      <td>0.0</td>\n",
       "      <td>2</td>\n",
       "      <td>1</td>\n",
       "      <td>1</td>\n",
       "    </tr>\n",
       "  </tbody>\n",
       "</table>\n",
       "<p>2 rows × 23 columns</p>\n",
       "</div>"
      ],
      "text/plain": [
       "   partner_id  customer_id ord_type_code service  order_id  order_date  \\\n",
       "0       74617     75068583           B2C  orders  73561191  2019-02-13   \n",
       "1       74617     75217439           B2C  orders  73867112  2019-02-13   \n",
       "\n",
       "   first_purchase  number_of_purchases ord_channel_type_code  \\\n",
       "0            True                    1               OFFLINE   \n",
       "1            True                    1                ONLINE   \n",
       "\n",
       "  ord_payment_status_code  ...  pymt_subscription  pymt_subscription_excess  \\\n",
       "0                    PAID  ...                0.0                       0.0   \n",
       "1                    PAID  ...                0.0                       0.0   \n",
       "\n",
       "   refund_order  refund_subscription  refund_subscription_excess  couponUsed  \\\n",
       "0           0.0                  0.0                         0.0           0   \n",
       "1           0.0                  0.0                         0.0           1   \n",
       "\n",
       "   service_cat  dayIndex  isWeekday  serviceChannel  \n",
       "0          0.0         2          1               3  \n",
       "1          0.0         2          1               1  \n",
       "\n",
       "[2 rows x 23 columns]"
      ]
     },
     "execution_count": 73,
     "metadata": {},
     "output_type": "execute_result"
    }
   ],
   "source": [
    "# load the cleaned data from file and remove subscription records\n",
    "df = pd.read_csv('data/cleanedkpi.csv')\n",
    "df.head(2)"
   ]
  },
  {
   "cell_type": "markdown",
   "id": "a8ae8508",
   "metadata": {},
   "source": [
    "Recalling that the service channels are sorted as follows:\n",
    "  1. Online and Order\n",
    "  2. Online and Subscription\n",
    "  3. Offline and Order\n",
    "  4. Offline and Subscription\n",
    "\n",
    "For our project we want to keep only categories 1 and 3."
   ]
  },
  {
   "cell_type": "code",
   "execution_count": 74,
   "id": "3a2a38ce",
   "metadata": {},
   "outputs": [],
   "source": [
    "# Keep only 'orders'\n",
    "options = [1,3]\n",
    "df_orders = df[df['serviceChannel'].isin(options)] "
   ]
  },
  {
   "cell_type": "code",
   "execution_count": 75,
   "id": "3935f546",
   "metadata": {},
   "outputs": [
    {
     "data": {
      "text/plain": [
       "Index(['partner_id', 'customer_id', 'ord_type_code', 'service', 'order_id',\n",
       "       'order_date', 'first_purchase', 'number_of_purchases',\n",
       "       'ord_channel_type_code', 'ord_payment_status_code', 'sales',\n",
       "       'excess_subscription', 'pymt_order', 'pymt_subscription',\n",
       "       'pymt_subscription_excess', 'refund_order', 'refund_subscription',\n",
       "       'refund_subscription_excess', 'couponUsed', 'service_cat', 'dayIndex',\n",
       "       'isWeekday', 'serviceChannel'],\n",
       "      dtype='object')"
      ]
     },
     "execution_count": 75,
     "metadata": {},
     "output_type": "execute_result"
    }
   ],
   "source": [
    "df_orders.columns"
   ]
  },
  {
   "cell_type": "code",
   "execution_count": 76,
   "id": "75ae75f1",
   "metadata": {},
   "outputs": [
    {
     "data": {
      "text/plain": [
       "array(['orders'], dtype=object)"
      ]
     },
     "execution_count": 76,
     "metadata": {},
     "output_type": "execute_result"
    }
   ],
   "source": [
    "# all of the services are orders. This column can be removed. \n",
    "df_orders['service'].unique()"
   ]
  },
  {
   "cell_type": "code",
   "execution_count": 77,
   "id": "67543d7c",
   "metadata": {},
   "outputs": [
    {
     "data": {
      "text/plain": [
       "array([0.])"
      ]
     },
     "execution_count": 77,
     "metadata": {},
     "output_type": "execute_result"
    }
   ],
   "source": [
    "# Can remove this column too\n",
    "df_orders['refund_subscription'].unique()"
   ]
  },
  {
   "cell_type": "code",
   "execution_count": 78,
   "id": "e31e834f",
   "metadata": {},
   "outputs": [
    {
     "data": {
      "text/plain": [
       "array([0.])"
      ]
     },
     "execution_count": 78,
     "metadata": {},
     "output_type": "execute_result"
    }
   ],
   "source": [
    "# Can remove this column too\n",
    "df_orders['excess_subscription'].unique()"
   ]
  },
  {
   "cell_type": "code",
   "execution_count": 79,
   "id": "972e49d3",
   "metadata": {},
   "outputs": [
    {
     "data": {
      "text/plain": [
       "array([0.])"
      ]
     },
     "execution_count": 79,
     "metadata": {},
     "output_type": "execute_result"
    }
   ],
   "source": [
    "# Can remove this column too\n",
    "df_orders['service_cat'].unique()"
   ]
  },
  {
   "cell_type": "code",
   "execution_count": 80,
   "id": "9cb64cb4",
   "metadata": {},
   "outputs": [
    {
     "data": {
      "text/plain": [
       "array([0.])"
      ]
     },
     "execution_count": 80,
     "metadata": {},
     "output_type": "execute_result"
    }
   ],
   "source": [
    "# Can remove this column too\n",
    "df_orders['pymt_subscription'].unique()"
   ]
  },
  {
   "cell_type": "code",
   "execution_count": 81,
   "id": "5a6c68d5",
   "metadata": {},
   "outputs": [
    {
     "data": {
      "text/plain": [
       "array([0.])"
      ]
     },
     "execution_count": 81,
     "metadata": {},
     "output_type": "execute_result"
    }
   ],
   "source": [
    "# Can remove this column too\n",
    "df_orders['refund_subscription_excess'].unique()"
   ]
  },
  {
   "cell_type": "code",
   "execution_count": 82,
   "id": "d2e97f25",
   "metadata": {},
   "outputs": [
    {
     "data": {
      "text/plain": [
       "array([0.])"
      ]
     },
     "execution_count": 82,
     "metadata": {},
     "output_type": "execute_result"
    }
   ],
   "source": [
    "# Can remove this column too\n",
    "df_orders['pymt_subscription_excess'].unique()"
   ]
  },
  {
   "cell_type": "code",
   "execution_count": 83,
   "id": "1ad73834",
   "metadata": {},
   "outputs": [],
   "source": [
    "df_orders = df_orders.drop(['refund_subscription_excess', 'pymt_subscription', \n",
    "                          'service_cat', 'excess_subscription', 'refund_subscription',\n",
    "                            'pymt_subscription_excess', 'service'], axis=1)"
   ]
  },
  {
   "cell_type": "code",
   "execution_count": 84,
   "id": "2bdfde70",
   "metadata": {},
   "outputs": [
    {
     "data": {
      "text/plain": [
       "array(['B2C', 'SUBSCRIPTION'], dtype=object)"
      ]
     },
     "execution_count": 84,
     "metadata": {},
     "output_type": "execute_result"
    }
   ],
   "source": [
    "# are all of the 'ord_type_code' B2C?\n",
    "df_orders['ord_type_code'].unique()"
   ]
  },
  {
   "cell_type": "code",
   "execution_count": 85,
   "id": "4c141ec2",
   "metadata": {},
   "outputs": [
    {
     "data": {
      "text/plain": [
       "149356"
      ]
     },
     "execution_count": 85,
     "metadata": {},
     "output_type": "execute_result"
    }
   ],
   "source": [
    "len(df_orders)"
   ]
  },
  {
   "cell_type": "code",
   "execution_count": 86,
   "id": "e6fbab79",
   "metadata": {},
   "outputs": [
    {
     "name": "stdout",
     "output_type": "stream",
     "text": [
      "Num of records with ord_type_code = 'SUBSCRIPTION': 40351\n"
     ]
    }
   ],
   "source": [
    "# There are a significant amount of orders that have 'ord_type_code' as SUBSCRIPTION even though they have\n",
    "# service category of orders. \n",
    "sub = df_orders.loc[df_orders['ord_type_code'] == 'SUBSCRIPTION']\n",
    "print(\"Num of records with ord_type_code = 'SUBSCRIPTION':\", str(len(sub)))"
   ]
  },
  {
   "cell_type": "code",
   "execution_count": 87,
   "id": "161a6a2b",
   "metadata": {},
   "outputs": [],
   "source": [
    "# Write the cleaned df to file. \n",
    "df_orders.to_csv('data/orderskpi.csv', index=False)"
   ]
  },
  {
   "cell_type": "code",
   "execution_count": 88,
   "id": "e0b89b79",
   "metadata": {},
   "outputs": [
    {
     "data": {
      "text/plain": [
       "'2021-11-13'"
      ]
     },
     "execution_count": 88,
     "metadata": {},
     "output_type": "execute_result"
    }
   ],
   "source": [
    "df_orders.order_date.max()"
   ]
  },
  {
   "cell_type": "code",
   "execution_count": 380,
   "id": "a0d8fe9f",
   "metadata": {},
   "outputs": [
    {
     "data": {
      "text/plain": [
       "Index(['partner_id', 'customer_id', 'ord_type_code', 'order_id', 'order_date',\n",
       "       'first_purchase', 'number_of_purchases', 'ord_channel_type_code',\n",
       "       'ord_payment_status_code', 'sales', 'pymt_order', 'refund_order',\n",
       "       'couponUsed', 'dayIndex', 'isWeekday', 'serviceChannel'],\n",
       "      dtype='object')"
      ]
     },
     "execution_count": 380,
     "metadata": {},
     "output_type": "execute_result"
    }
   ],
   "source": [
    "df_orders.columns"
   ]
  },
  {
   "cell_type": "code",
   "execution_count": 91,
   "id": "f2f3fba9",
   "metadata": {},
   "outputs": [
    {
     "data": {
      "text/plain": [
       "(149356, 149356)"
      ]
     },
     "execution_count": 91,
     "metadata": {},
     "output_type": "execute_result"
    }
   ],
   "source": [
    "# Make sure order_id's are unique in this dataset\n",
    "len(df_orders), len(df_orders['order_id'].unique())"
   ]
  }
 ],
 "metadata": {
  "kernelspec": {
   "display_name": "Python 3 (ipykernel)",
   "language": "python",
   "name": "python3"
  },
  "language_info": {
   "codemirror_mode": {
    "name": "ipython",
    "version": 3
   },
   "file_extension": ".py",
   "mimetype": "text/x-python",
   "name": "python",
   "nbconvert_exporter": "python",
   "pygments_lexer": "ipython3",
   "version": "3.8.10"
  }
 },
 "nbformat": 4,
 "nbformat_minor": 5
}
